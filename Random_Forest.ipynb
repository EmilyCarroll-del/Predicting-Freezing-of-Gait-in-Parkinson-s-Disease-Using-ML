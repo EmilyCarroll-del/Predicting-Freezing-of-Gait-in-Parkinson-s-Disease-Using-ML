{
  "cells": [
    {
      "cell_type": "markdown",
      "metadata": {
        "id": "view-in-github",
        "colab_type": "text"
      },
      "source": [
        "<a href=\"https://colab.research.google.com/github/EmilyCarroll-del/Predicting-Freezing-of-Gait-in-Parkinson-s-Disease-Using-ML/blob/main/Random_Forest.ipynb\" target=\"_parent\"><img src=\"https://colab.research.google.com/assets/colab-badge.svg\" alt=\"Open In Colab\"/></a>"
      ]
    },
    {
      "cell_type": "code",
      "execution_count": null,
      "metadata": {
        "colab": {
          "base_uri": "https://localhost:8080/"
        },
        "id": "4XEeq7hIvnB5",
        "outputId": "9be1eb1c-de72-4c71-97eb-17a690a3537b"
      },
      "outputs": [
        {
          "output_type": "stream",
          "name": "stdout",
          "text": [
            "Mounted at /content/drive\n"
          ]
        }
      ],
      "source": [
        "from google.colab import drive\n",
        "drive.mount('/content/drive')"
      ]
    },
    {
      "cell_type": "code",
      "execution_count": null,
      "metadata": {
        "colab": {
          "base_uri": "https://localhost:8080/"
        },
        "id": "EQQk5CAJzctf",
        "outputId": "550936fc-4b87-4b3d-d065-36797faa90c3"
      },
      "outputs": [
        {
          "output_type": "stream",
          "name": "stdout",
          "text": [
            "/content/drive/MyDrive/Colab Notebooks\n",
            "FFT.ipynb                                \u001b[0m\u001b[01;34mTest-Data\u001b[0m/\n",
            "RandomForestCorrect.ipynb                \u001b[01;34mtlvmc-parkinsons-freezing-gait-prediction\u001b[0m/\n",
            "RandomForestFinalPreprocessedData.ipynb  \u001b[01;34mTraining-Data\u001b[0m/\n",
            "RandomForestNew.ipynb                    Untitled0.ipynb\n",
            "ResNetFinal.ipynb.ipynb                  Untitled1.ipynb\n",
            "ResNetNew.ipynb\n"
          ]
        }
      ],
      "source": [
        "%cd '/content/drive/MyDrive/Colab Notebooks/'\n",
        "%ls"
      ]
    },
    {
      "cell_type": "code",
      "execution_count": null,
      "metadata": {
        "id": "t74pJLpCqEkc"
      },
      "outputs": [],
      "source": [
        "import numpy as np\n",
        "import pandas as pd\n",
        "import matplotlib.pyplot as plt\n",
        "import os\n",
        "import seaborn as sns\n"
      ]
    },
    {
      "cell_type": "markdown",
      "metadata": {
        "id": "uoiR8bcWrR0o"
      },
      "source": [
        "# Process Data"
      ]
    },
    {
      "cell_type": "code",
      "execution_count": null,
      "metadata": {
        "id": "w8dkkMb6vmrf"
      },
      "outputs": [],
      "source": [
        "#directory to each folder in train\n",
        "train_defog_dir_Turn = '/content/drive/MyDrive/Colab Notebooks/Training-Data/defog_turn.csv'\n",
        "train_defog_dir_SH= '/content/drive/MyDrive/Colab Notebooks/Training-Data/defog_start_hesitation.csv'\n",
        "train_defog_dir_W= '/content/drive/MyDrive/Colab Notebooks/Training-Data/defog_walking.csv'\n",
        "\n",
        "test_defog_dir_Turn= '/content/drive/MyDrive/Colab Notebooks/Test-Data/defog_turn_test.csv'\n",
        "test_defog_dir_SH= '/content/drive/MyDrive/Colab Notebooks/Test-Data/defog_start_hesitation_test.csv'\n",
        "test_defog_dir_W= '/content/drive/MyDrive/Colab Notebooks/Test-Data/defog_walking_test.csv'"
      ]
    },
    {
      "cell_type": "code",
      "execution_count": null,
      "metadata": {
        "id": "R364grVKpARY"
      },
      "outputs": [],
      "source": [
        "#directory to each folder in train\n",
        "train_tdcsfog_dir_Turn = '/content/drive/MyDrive/Colab Notebooks/Training-Data/tdcsfog_turn.csv'\n",
        "train_tdcsfog_dir_SH= '/content/drive/MyDrive/Colab Notebooks/Training-Data/tdcsfog_start_hesitation.csv'\n",
        "train_tdcsfog_dir_W= '/content/drive/MyDrive/Colab Notebooks/Training-Data/tdcsfog_walking.csv'\n",
        "\n",
        "test_tdcsfog_dir_Turn= '/content/drive/MyDrive/Colab Notebooks/Test-Data/tdcsfog_turn_test.csv'\n",
        "test_tdcsfog_dir_SH= '/content/drive/MyDrive/Colab Notebooks/Test-Data/tdcsfog_start_hesitation_test.csv'\n",
        "test_tdcsfog_dir_W= '/content/drive/MyDrive/Colab Notebooks/Test-Data/tdcsfog_walking_test.csv'"
      ]
    },
    {
      "cell_type": "code",
      "execution_count": null,
      "metadata": {
        "id": "6FLGXfB-p7TC"
      },
      "outputs": [],
      "source": [
        "# Process each defog subdirectory\n",
        "defog_turn = pd.read_csv(train_defog_dir_Turn)\n",
        "defog_SH = pd.read_csv(train_defog_dir_SH)\n",
        "defog_W = pd.read_csv(train_defog_dir_W)\n",
        "\n",
        "defog_turn_test = pd.read_csv(test_defog_dir_Turn)\n",
        "defog_SH_test = pd.read_csv(test_defog_dir_SH)\n",
        "defog_W_test = pd.read_csv(test_defog_dir_W)"
      ]
    },
    {
      "cell_type": "code",
      "execution_count": null,
      "metadata": {
        "id": "WRqRNDdlqBRv"
      },
      "outputs": [],
      "source": [
        "# Process each tdcsfog subdirectory\n",
        "tdcsfog_turn = pd.read_csv(train_tdcsfog_dir_Turn)\n",
        "tdcsfog_SH = pd.read_csv(train_tdcsfog_dir_SH)\n",
        "tdcsfog_W = pd.read_csv(train_tdcsfog_dir_W)\n",
        "\n",
        "tdcsfog_turn_test = pd.read_csv(test_tdcsfog_dir_Turn)\n",
        "tdcsfog_SH_test = pd.read_csv(test_tdcsfog_dir_SH)\n",
        "tdcsfog_W_test = pd.read_csv(test_tdcsfog_dir_W)"
      ]
    },
    {
      "cell_type": "code",
      "execution_count": null,
      "metadata": {
        "colab": {
          "base_uri": "https://localhost:8080/",
          "height": 243
        },
        "id": "_9NAv9Oiqasi",
        "outputId": "93ef6f6b-9631-43cd-c8bc-e29b7790263c"
      },
      "outputs": [
        {
          "output_type": "execute_result",
          "data": {
            "text/plain": [
              "   Unnamed: 0       PC1       PC2       PC3       PC4       PC5       PC6  \\\n",
              "0           0 -5.323772 -0.003925 -1.072463  2.504091  0.163969  0.973779   \n",
              "1           1 -5.506546  0.027250 -1.253309  0.937572 -1.036939  0.334648   \n",
              "2           2 -4.989670 -0.825342  1.130794 -1.923538 -1.550589 -0.246075   \n",
              "3           3 -2.409238  1.761802  4.071607 -2.063834 -0.411514 -0.254477   \n",
              "4           4 -1.547210  2.486314  2.351423  0.004478 -3.110257 -0.046188   \n",
              "\n",
              "        PC7       PC8       PC9  Walking  \n",
              "0  0.235721 -0.298644  0.581682        0  \n",
              "1  0.488285 -0.432269 -0.113006        0  \n",
              "2  0.087627  1.123411  0.648512        0  \n",
              "3  2.151966 -0.716654  0.334372        0  \n",
              "4  1.411215 -0.831943 -0.160770        0  "
            ],
            "text/html": [
              "\n",
              "  <div id=\"df-8079be99-bb9e-4d49-bd59-2da77b437ab0\" class=\"colab-df-container\">\n",
              "    <div>\n",
              "<style scoped>\n",
              "    .dataframe tbody tr th:only-of-type {\n",
              "        vertical-align: middle;\n",
              "    }\n",
              "\n",
              "    .dataframe tbody tr th {\n",
              "        vertical-align: top;\n",
              "    }\n",
              "\n",
              "    .dataframe thead th {\n",
              "        text-align: right;\n",
              "    }\n",
              "</style>\n",
              "<table border=\"1\" class=\"dataframe\">\n",
              "  <thead>\n",
              "    <tr style=\"text-align: right;\">\n",
              "      <th></th>\n",
              "      <th>Unnamed: 0</th>\n",
              "      <th>PC1</th>\n",
              "      <th>PC2</th>\n",
              "      <th>PC3</th>\n",
              "      <th>PC4</th>\n",
              "      <th>PC5</th>\n",
              "      <th>PC6</th>\n",
              "      <th>PC7</th>\n",
              "      <th>PC8</th>\n",
              "      <th>PC9</th>\n",
              "      <th>Walking</th>\n",
              "    </tr>\n",
              "  </thead>\n",
              "  <tbody>\n",
              "    <tr>\n",
              "      <th>0</th>\n",
              "      <td>0</td>\n",
              "      <td>-5.323772</td>\n",
              "      <td>-0.003925</td>\n",
              "      <td>-1.072463</td>\n",
              "      <td>2.504091</td>\n",
              "      <td>0.163969</td>\n",
              "      <td>0.973779</td>\n",
              "      <td>0.235721</td>\n",
              "      <td>-0.298644</td>\n",
              "      <td>0.581682</td>\n",
              "      <td>0</td>\n",
              "    </tr>\n",
              "    <tr>\n",
              "      <th>1</th>\n",
              "      <td>1</td>\n",
              "      <td>-5.506546</td>\n",
              "      <td>0.027250</td>\n",
              "      <td>-1.253309</td>\n",
              "      <td>0.937572</td>\n",
              "      <td>-1.036939</td>\n",
              "      <td>0.334648</td>\n",
              "      <td>0.488285</td>\n",
              "      <td>-0.432269</td>\n",
              "      <td>-0.113006</td>\n",
              "      <td>0</td>\n",
              "    </tr>\n",
              "    <tr>\n",
              "      <th>2</th>\n",
              "      <td>2</td>\n",
              "      <td>-4.989670</td>\n",
              "      <td>-0.825342</td>\n",
              "      <td>1.130794</td>\n",
              "      <td>-1.923538</td>\n",
              "      <td>-1.550589</td>\n",
              "      <td>-0.246075</td>\n",
              "      <td>0.087627</td>\n",
              "      <td>1.123411</td>\n",
              "      <td>0.648512</td>\n",
              "      <td>0</td>\n",
              "    </tr>\n",
              "    <tr>\n",
              "      <th>3</th>\n",
              "      <td>3</td>\n",
              "      <td>-2.409238</td>\n",
              "      <td>1.761802</td>\n",
              "      <td>4.071607</td>\n",
              "      <td>-2.063834</td>\n",
              "      <td>-0.411514</td>\n",
              "      <td>-0.254477</td>\n",
              "      <td>2.151966</td>\n",
              "      <td>-0.716654</td>\n",
              "      <td>0.334372</td>\n",
              "      <td>0</td>\n",
              "    </tr>\n",
              "    <tr>\n",
              "      <th>4</th>\n",
              "      <td>4</td>\n",
              "      <td>-1.547210</td>\n",
              "      <td>2.486314</td>\n",
              "      <td>2.351423</td>\n",
              "      <td>0.004478</td>\n",
              "      <td>-3.110257</td>\n",
              "      <td>-0.046188</td>\n",
              "      <td>1.411215</td>\n",
              "      <td>-0.831943</td>\n",
              "      <td>-0.160770</td>\n",
              "      <td>0</td>\n",
              "    </tr>\n",
              "  </tbody>\n",
              "</table>\n",
              "</div>\n",
              "    <div class=\"colab-df-buttons\">\n",
              "\n",
              "  <div class=\"colab-df-container\">\n",
              "    <button class=\"colab-df-convert\" onclick=\"convertToInteractive('df-8079be99-bb9e-4d49-bd59-2da77b437ab0')\"\n",
              "            title=\"Convert this dataframe to an interactive table.\"\n",
              "            style=\"display:none;\">\n",
              "\n",
              "  <svg xmlns=\"http://www.w3.org/2000/svg\" height=\"24px\" viewBox=\"0 -960 960 960\">\n",
              "    <path d=\"M120-120v-720h720v720H120Zm60-500h600v-160H180v160Zm220 220h160v-160H400v160Zm0 220h160v-160H400v160ZM180-400h160v-160H180v160Zm440 0h160v-160H620v160ZM180-180h160v-160H180v160Zm440 0h160v-160H620v160Z\"/>\n",
              "  </svg>\n",
              "    </button>\n",
              "\n",
              "  <style>\n",
              "    .colab-df-container {\n",
              "      display:flex;\n",
              "      gap: 12px;\n",
              "    }\n",
              "\n",
              "    .colab-df-convert {\n",
              "      background-color: #E8F0FE;\n",
              "      border: none;\n",
              "      border-radius: 50%;\n",
              "      cursor: pointer;\n",
              "      display: none;\n",
              "      fill: #1967D2;\n",
              "      height: 32px;\n",
              "      padding: 0 0 0 0;\n",
              "      width: 32px;\n",
              "    }\n",
              "\n",
              "    .colab-df-convert:hover {\n",
              "      background-color: #E2EBFA;\n",
              "      box-shadow: 0px 1px 2px rgba(60, 64, 67, 0.3), 0px 1px 3px 1px rgba(60, 64, 67, 0.15);\n",
              "      fill: #174EA6;\n",
              "    }\n",
              "\n",
              "    .colab-df-buttons div {\n",
              "      margin-bottom: 4px;\n",
              "    }\n",
              "\n",
              "    [theme=dark] .colab-df-convert {\n",
              "      background-color: #3B4455;\n",
              "      fill: #D2E3FC;\n",
              "    }\n",
              "\n",
              "    [theme=dark] .colab-df-convert:hover {\n",
              "      background-color: #434B5C;\n",
              "      box-shadow: 0px 1px 3px 1px rgba(0, 0, 0, 0.15);\n",
              "      filter: drop-shadow(0px 1px 2px rgba(0, 0, 0, 0.3));\n",
              "      fill: #FFFFFF;\n",
              "    }\n",
              "  </style>\n",
              "\n",
              "    <script>\n",
              "      const buttonEl =\n",
              "        document.querySelector('#df-8079be99-bb9e-4d49-bd59-2da77b437ab0 button.colab-df-convert');\n",
              "      buttonEl.style.display =\n",
              "        google.colab.kernel.accessAllowed ? 'block' : 'none';\n",
              "\n",
              "      async function convertToInteractive(key) {\n",
              "        const element = document.querySelector('#df-8079be99-bb9e-4d49-bd59-2da77b437ab0');\n",
              "        const dataTable =\n",
              "          await google.colab.kernel.invokeFunction('convertToInteractive',\n",
              "                                                    [key], {});\n",
              "        if (!dataTable) return;\n",
              "\n",
              "        const docLinkHtml = 'Like what you see? Visit the ' +\n",
              "          '<a target=\"_blank\" href=https://colab.research.google.com/notebooks/data_table.ipynb>data table notebook</a>'\n",
              "          + ' to learn more about interactive tables.';\n",
              "        element.innerHTML = '';\n",
              "        dataTable['output_type'] = 'display_data';\n",
              "        await google.colab.output.renderOutput(dataTable, element);\n",
              "        const docLink = document.createElement('div');\n",
              "        docLink.innerHTML = docLinkHtml;\n",
              "        element.appendChild(docLink);\n",
              "      }\n",
              "    </script>\n",
              "  </div>\n",
              "\n",
              "\n",
              "<div id=\"df-35e50240-0858-44f4-8337-903cbeb5daba\">\n",
              "  <button class=\"colab-df-quickchart\" onclick=\"quickchart('df-35e50240-0858-44f4-8337-903cbeb5daba')\"\n",
              "            title=\"Suggest charts\"\n",
              "            style=\"display:none;\">\n",
              "\n",
              "<svg xmlns=\"http://www.w3.org/2000/svg\" height=\"24px\"viewBox=\"0 0 24 24\"\n",
              "     width=\"24px\">\n",
              "    <g>\n",
              "        <path d=\"M19 3H5c-1.1 0-2 .9-2 2v14c0 1.1.9 2 2 2h14c1.1 0 2-.9 2-2V5c0-1.1-.9-2-2-2zM9 17H7v-7h2v7zm4 0h-2V7h2v10zm4 0h-2v-4h2v4z\"/>\n",
              "    </g>\n",
              "</svg>\n",
              "  </button>\n",
              "\n",
              "<style>\n",
              "  .colab-df-quickchart {\n",
              "      --bg-color: #E8F0FE;\n",
              "      --fill-color: #1967D2;\n",
              "      --hover-bg-color: #E2EBFA;\n",
              "      --hover-fill-color: #174EA6;\n",
              "      --disabled-fill-color: #AAA;\n",
              "      --disabled-bg-color: #DDD;\n",
              "  }\n",
              "\n",
              "  [theme=dark] .colab-df-quickchart {\n",
              "      --bg-color: #3B4455;\n",
              "      --fill-color: #D2E3FC;\n",
              "      --hover-bg-color: #434B5C;\n",
              "      --hover-fill-color: #FFFFFF;\n",
              "      --disabled-bg-color: #3B4455;\n",
              "      --disabled-fill-color: #666;\n",
              "  }\n",
              "\n",
              "  .colab-df-quickchart {\n",
              "    background-color: var(--bg-color);\n",
              "    border: none;\n",
              "    border-radius: 50%;\n",
              "    cursor: pointer;\n",
              "    display: none;\n",
              "    fill: var(--fill-color);\n",
              "    height: 32px;\n",
              "    padding: 0;\n",
              "    width: 32px;\n",
              "  }\n",
              "\n",
              "  .colab-df-quickchart:hover {\n",
              "    background-color: var(--hover-bg-color);\n",
              "    box-shadow: 0 1px 2px rgba(60, 64, 67, 0.3), 0 1px 3px 1px rgba(60, 64, 67, 0.15);\n",
              "    fill: var(--button-hover-fill-color);\n",
              "  }\n",
              "\n",
              "  .colab-df-quickchart-complete:disabled,\n",
              "  .colab-df-quickchart-complete:disabled:hover {\n",
              "    background-color: var(--disabled-bg-color);\n",
              "    fill: var(--disabled-fill-color);\n",
              "    box-shadow: none;\n",
              "  }\n",
              "\n",
              "  .colab-df-spinner {\n",
              "    border: 2px solid var(--fill-color);\n",
              "    border-color: transparent;\n",
              "    border-bottom-color: var(--fill-color);\n",
              "    animation:\n",
              "      spin 1s steps(1) infinite;\n",
              "  }\n",
              "\n",
              "  @keyframes spin {\n",
              "    0% {\n",
              "      border-color: transparent;\n",
              "      border-bottom-color: var(--fill-color);\n",
              "      border-left-color: var(--fill-color);\n",
              "    }\n",
              "    20% {\n",
              "      border-color: transparent;\n",
              "      border-left-color: var(--fill-color);\n",
              "      border-top-color: var(--fill-color);\n",
              "    }\n",
              "    30% {\n",
              "      border-color: transparent;\n",
              "      border-left-color: var(--fill-color);\n",
              "      border-top-color: var(--fill-color);\n",
              "      border-right-color: var(--fill-color);\n",
              "    }\n",
              "    40% {\n",
              "      border-color: transparent;\n",
              "      border-right-color: var(--fill-color);\n",
              "      border-top-color: var(--fill-color);\n",
              "    }\n",
              "    60% {\n",
              "      border-color: transparent;\n",
              "      border-right-color: var(--fill-color);\n",
              "    }\n",
              "    80% {\n",
              "      border-color: transparent;\n",
              "      border-right-color: var(--fill-color);\n",
              "      border-bottom-color: var(--fill-color);\n",
              "    }\n",
              "    90% {\n",
              "      border-color: transparent;\n",
              "      border-bottom-color: var(--fill-color);\n",
              "    }\n",
              "  }\n",
              "</style>\n",
              "\n",
              "  <script>\n",
              "    async function quickchart(key) {\n",
              "      const quickchartButtonEl =\n",
              "        document.querySelector('#' + key + ' button');\n",
              "      quickchartButtonEl.disabled = true;  // To prevent multiple clicks.\n",
              "      quickchartButtonEl.classList.add('colab-df-spinner');\n",
              "      try {\n",
              "        const charts = await google.colab.kernel.invokeFunction(\n",
              "            'suggestCharts', [key], {});\n",
              "      } catch (error) {\n",
              "        console.error('Error during call to suggestCharts:', error);\n",
              "      }\n",
              "      quickchartButtonEl.classList.remove('colab-df-spinner');\n",
              "      quickchartButtonEl.classList.add('colab-df-quickchart-complete');\n",
              "    }\n",
              "    (() => {\n",
              "      let quickchartButtonEl =\n",
              "        document.querySelector('#df-35e50240-0858-44f4-8337-903cbeb5daba button');\n",
              "      quickchartButtonEl.style.display =\n",
              "        google.colab.kernel.accessAllowed ? 'block' : 'none';\n",
              "    })();\n",
              "  </script>\n",
              "</div>\n",
              "\n",
              "    </div>\n",
              "  </div>\n"
            ],
            "application/vnd.google.colaboratory.intrinsic+json": {
              "type": "dataframe",
              "variable_name": "tdcsfog_W_test",
              "summary": "{\n  \"name\": \"tdcsfog_W_test\",\n  \"rows\": 361,\n  \"fields\": [\n    {\n      \"column\": \"Unnamed: 0\",\n      \"properties\": {\n        \"dtype\": \"number\",\n        \"std\": 104,\n        \"min\": 0,\n        \"max\": 360,\n        \"num_unique_values\": 361,\n        \"samples\": [\n          163,\n          33,\n          15\n        ],\n        \"semantic_type\": \"\",\n        \"description\": \"\"\n      }\n    },\n    {\n      \"column\": \"PC1\",\n      \"properties\": {\n        \"dtype\": \"number\",\n        \"std\": 2.2664640330704224,\n        \"min\": -5.506546392383558,\n        \"max\": 8.872166491264577,\n        \"num_unique_values\": 361,\n        \"samples\": [\n          -0.9738380370489864,\n          -0.2454193276685542,\n          -3.0342949915762825\n        ],\n        \"semantic_type\": \"\",\n        \"description\": \"\"\n      }\n    },\n    {\n      \"column\": \"PC2\",\n      \"properties\": {\n        \"dtype\": \"number\",\n        \"std\": 0.8883348858322934,\n        \"min\": -2.6888442109608603,\n        \"max\": 3.2677754479036727,\n        \"num_unique_values\": 361,\n        \"samples\": [\n          -0.5675024771781229,\n          -0.8182509723423137,\n          -1.049804395635396\n        ],\n        \"semantic_type\": \"\",\n        \"description\": \"\"\n      }\n    },\n    {\n      \"column\": \"PC3\",\n      \"properties\": {\n        \"dtype\": \"number\",\n        \"std\": 1.3145512404277402,\n        \"min\": -7.683573271225082,\n        \"max\": 4.071607216034843,\n        \"num_unique_values\": 361,\n        \"samples\": [\n          -0.2419101233404159,\n          0.7732604376773776,\n          0.6687818712867141\n        ],\n        \"semantic_type\": \"\",\n        \"description\": \"\"\n      }\n    },\n    {\n      \"column\": \"PC4\",\n      \"properties\": {\n        \"dtype\": \"number\",\n        \"std\": 0.9036105860364694,\n        \"min\": -3.76559547705017,\n        \"max\": 2.5040911931272483,\n        \"num_unique_values\": 361,\n        \"samples\": [\n          -0.0743155663542912,\n          -0.1819504282582386,\n          -1.3575268775950946\n        ],\n        \"semantic_type\": \"\",\n        \"description\": \"\"\n      }\n    },\n    {\n      \"column\": \"PC5\",\n      \"properties\": {\n        \"dtype\": \"number\",\n        \"std\": 0.7709432478116438,\n        \"min\": -3.3614815298539185,\n        \"max\": 2.046904747022881,\n        \"num_unique_values\": 361,\n        \"samples\": [\n          0.9948937547891674,\n          0.140085876497737,\n          -0.9449861931736576\n        ],\n        \"semantic_type\": \"\",\n        \"description\": \"\"\n      }\n    },\n    {\n      \"column\": \"PC6\",\n      \"properties\": {\n        \"dtype\": \"number\",\n        \"std\": 0.6939776087474776,\n        \"min\": -2.5832773710494488,\n        \"max\": 2.345646836630731,\n        \"num_unique_values\": 361,\n        \"samples\": [\n          0.1472720784202582,\n          0.5456374823653979,\n          -0.6389437829369162\n        ],\n        \"semantic_type\": \"\",\n        \"description\": \"\"\n      }\n    },\n    {\n      \"column\": \"PC7\",\n      \"properties\": {\n        \"dtype\": \"number\",\n        \"std\": 0.6748666905988364,\n        \"min\": -2.724805260512779,\n        \"max\": 3.1749216186301967,\n        \"num_unique_values\": 361,\n        \"samples\": [\n          -0.1642065114604204,\n          -0.4320141843472292,\n          -0.4838287493820924\n        ],\n        \"semantic_type\": \"\",\n        \"description\": \"\"\n      }\n    },\n    {\n      \"column\": \"PC8\",\n      \"properties\": {\n        \"dtype\": \"number\",\n        \"std\": 0.6195065494963153,\n        \"min\": -1.9469115677015945,\n        \"max\": 2.413384393831827,\n        \"num_unique_values\": 361,\n        \"samples\": [\n          0.0828996938290096,\n          0.2287923969349651,\n          1.0632558662758724\n        ],\n        \"semantic_type\": \"\",\n        \"description\": \"\"\n      }\n    },\n    {\n      \"column\": \"PC9\",\n      \"properties\": {\n        \"dtype\": \"number\",\n        \"std\": 0.576541121628051,\n        \"min\": -0.7405299438612968,\n        \"max\": 3.854629411118928,\n        \"num_unique_values\": 361,\n        \"samples\": [\n          0.0319104947250915,\n          0.4177997787121282,\n          0.2113707391270872\n        ],\n        \"semantic_type\": \"\",\n        \"description\": \"\"\n      }\n    },\n    {\n      \"column\": \"Walking\",\n      \"properties\": {\n        \"dtype\": \"number\",\n        \"std\": 0,\n        \"min\": 0,\n        \"max\": 1,\n        \"num_unique_values\": 2,\n        \"samples\": [\n          1,\n          0\n        ],\n        \"semantic_type\": \"\",\n        \"description\": \"\"\n      }\n    }\n  ]\n}"
            }
          },
          "metadata": {},
          "execution_count": 8
        }
      ],
      "source": [
        "tdcsfog_W_test.head()"
      ]
    },
    {
      "cell_type": "code",
      "execution_count": null,
      "metadata": {
        "colab": {
          "base_uri": "https://localhost:8080/",
          "height": 443
        },
        "id": "r-WEEmG3qG1M",
        "outputId": "127c1824-3274-4711-99d1-9138883f4a37"
      },
      "outputs": [
        {
          "output_type": "execute_result",
          "data": {
            "text/plain": [
              "           PC1       PC2       PC3       PC4       PC5       PC6       PC7  \\\n",
              "0     4.317413  0.036561 -0.900469 -2.189015  0.545232  0.356858  0.436013   \n",
              "1     4.171481 -0.183856 -1.363225  1.152901  3.088963 -1.670770  0.855470   \n",
              "2     4.122440  0.057086 -1.684743  2.061214  4.117958 -2.097520  1.165311   \n",
              "3     4.053525  0.490108 -2.142500  3.149641  5.438940 -2.559314  1.597471   \n",
              "4     4.455383 -1.215061 -0.306904 -0.120664 -0.061240  0.159117  0.027453   \n",
              "...        ...       ...       ...       ...       ...       ...       ...   \n",
              "1280  2.035364 -0.481530 -0.204632 -0.410359  0.075901 -0.140757  0.410385   \n",
              "1281  1.674965 -1.073424  0.289501  0.104078 -0.414845 -0.202726  0.268935   \n",
              "1282  1.472851 -1.061828  0.452399  0.228601 -0.478237 -0.143147  0.255995   \n",
              "1283  1.723132 -1.295978  0.530420  0.050174 -0.338062 -0.255657  0.051483   \n",
              "1284  1.664933 -1.270660  0.640479 -0.141063 -0.089778 -0.239896 -0.089023   \n",
              "\n",
              "           PC8  Walking  \n",
              "0    -0.013556        0  \n",
              "1     0.272183        0  \n",
              "2     0.348128        0  \n",
              "3     0.438389        0  \n",
              "4    -0.036245        0  \n",
              "...        ...      ...  \n",
              "1280 -0.482575        0  \n",
              "1281 -0.221085        0  \n",
              "1282 -0.263149        0  \n",
              "1283  0.020964        0  \n",
              "1284 -0.185450        0  \n",
              "\n",
              "[1285 rows x 9 columns]"
            ],
            "text/html": [
              "\n",
              "  <div id=\"df-7d3b7078-9690-429b-8551-15d7a4a27823\" class=\"colab-df-container\">\n",
              "    <div>\n",
              "<style scoped>\n",
              "    .dataframe tbody tr th:only-of-type {\n",
              "        vertical-align: middle;\n",
              "    }\n",
              "\n",
              "    .dataframe tbody tr th {\n",
              "        vertical-align: top;\n",
              "    }\n",
              "\n",
              "    .dataframe thead th {\n",
              "        text-align: right;\n",
              "    }\n",
              "</style>\n",
              "<table border=\"1\" class=\"dataframe\">\n",
              "  <thead>\n",
              "    <tr style=\"text-align: right;\">\n",
              "      <th></th>\n",
              "      <th>PC1</th>\n",
              "      <th>PC2</th>\n",
              "      <th>PC3</th>\n",
              "      <th>PC4</th>\n",
              "      <th>PC5</th>\n",
              "      <th>PC6</th>\n",
              "      <th>PC7</th>\n",
              "      <th>PC8</th>\n",
              "      <th>Walking</th>\n",
              "    </tr>\n",
              "  </thead>\n",
              "  <tbody>\n",
              "    <tr>\n",
              "      <th>0</th>\n",
              "      <td>4.317413</td>\n",
              "      <td>0.036561</td>\n",
              "      <td>-0.900469</td>\n",
              "      <td>-2.189015</td>\n",
              "      <td>0.545232</td>\n",
              "      <td>0.356858</td>\n",
              "      <td>0.436013</td>\n",
              "      <td>-0.013556</td>\n",
              "      <td>0</td>\n",
              "    </tr>\n",
              "    <tr>\n",
              "      <th>1</th>\n",
              "      <td>4.171481</td>\n",
              "      <td>-0.183856</td>\n",
              "      <td>-1.363225</td>\n",
              "      <td>1.152901</td>\n",
              "      <td>3.088963</td>\n",
              "      <td>-1.670770</td>\n",
              "      <td>0.855470</td>\n",
              "      <td>0.272183</td>\n",
              "      <td>0</td>\n",
              "    </tr>\n",
              "    <tr>\n",
              "      <th>2</th>\n",
              "      <td>4.122440</td>\n",
              "      <td>0.057086</td>\n",
              "      <td>-1.684743</td>\n",
              "      <td>2.061214</td>\n",
              "      <td>4.117958</td>\n",
              "      <td>-2.097520</td>\n",
              "      <td>1.165311</td>\n",
              "      <td>0.348128</td>\n",
              "      <td>0</td>\n",
              "    </tr>\n",
              "    <tr>\n",
              "      <th>3</th>\n",
              "      <td>4.053525</td>\n",
              "      <td>0.490108</td>\n",
              "      <td>-2.142500</td>\n",
              "      <td>3.149641</td>\n",
              "      <td>5.438940</td>\n",
              "      <td>-2.559314</td>\n",
              "      <td>1.597471</td>\n",
              "      <td>0.438389</td>\n",
              "      <td>0</td>\n",
              "    </tr>\n",
              "    <tr>\n",
              "      <th>4</th>\n",
              "      <td>4.455383</td>\n",
              "      <td>-1.215061</td>\n",
              "      <td>-0.306904</td>\n",
              "      <td>-0.120664</td>\n",
              "      <td>-0.061240</td>\n",
              "      <td>0.159117</td>\n",
              "      <td>0.027453</td>\n",
              "      <td>-0.036245</td>\n",
              "      <td>0</td>\n",
              "    </tr>\n",
              "    <tr>\n",
              "      <th>...</th>\n",
              "      <td>...</td>\n",
              "      <td>...</td>\n",
              "      <td>...</td>\n",
              "      <td>...</td>\n",
              "      <td>...</td>\n",
              "      <td>...</td>\n",
              "      <td>...</td>\n",
              "      <td>...</td>\n",
              "      <td>...</td>\n",
              "    </tr>\n",
              "    <tr>\n",
              "      <th>1280</th>\n",
              "      <td>2.035364</td>\n",
              "      <td>-0.481530</td>\n",
              "      <td>-0.204632</td>\n",
              "      <td>-0.410359</td>\n",
              "      <td>0.075901</td>\n",
              "      <td>-0.140757</td>\n",
              "      <td>0.410385</td>\n",
              "      <td>-0.482575</td>\n",
              "      <td>0</td>\n",
              "    </tr>\n",
              "    <tr>\n",
              "      <th>1281</th>\n",
              "      <td>1.674965</td>\n",
              "      <td>-1.073424</td>\n",
              "      <td>0.289501</td>\n",
              "      <td>0.104078</td>\n",
              "      <td>-0.414845</td>\n",
              "      <td>-0.202726</td>\n",
              "      <td>0.268935</td>\n",
              "      <td>-0.221085</td>\n",
              "      <td>0</td>\n",
              "    </tr>\n",
              "    <tr>\n",
              "      <th>1282</th>\n",
              "      <td>1.472851</td>\n",
              "      <td>-1.061828</td>\n",
              "      <td>0.452399</td>\n",
              "      <td>0.228601</td>\n",
              "      <td>-0.478237</td>\n",
              "      <td>-0.143147</td>\n",
              "      <td>0.255995</td>\n",
              "      <td>-0.263149</td>\n",
              "      <td>0</td>\n",
              "    </tr>\n",
              "    <tr>\n",
              "      <th>1283</th>\n",
              "      <td>1.723132</td>\n",
              "      <td>-1.295978</td>\n",
              "      <td>0.530420</td>\n",
              "      <td>0.050174</td>\n",
              "      <td>-0.338062</td>\n",
              "      <td>-0.255657</td>\n",
              "      <td>0.051483</td>\n",
              "      <td>0.020964</td>\n",
              "      <td>0</td>\n",
              "    </tr>\n",
              "    <tr>\n",
              "      <th>1284</th>\n",
              "      <td>1.664933</td>\n",
              "      <td>-1.270660</td>\n",
              "      <td>0.640479</td>\n",
              "      <td>-0.141063</td>\n",
              "      <td>-0.089778</td>\n",
              "      <td>-0.239896</td>\n",
              "      <td>-0.089023</td>\n",
              "      <td>-0.185450</td>\n",
              "      <td>0</td>\n",
              "    </tr>\n",
              "  </tbody>\n",
              "</table>\n",
              "<p>1285 rows × 9 columns</p>\n",
              "</div>\n",
              "    <div class=\"colab-df-buttons\">\n",
              "\n",
              "  <div class=\"colab-df-container\">\n",
              "    <button class=\"colab-df-convert\" onclick=\"convertToInteractive('df-7d3b7078-9690-429b-8551-15d7a4a27823')\"\n",
              "            title=\"Convert this dataframe to an interactive table.\"\n",
              "            style=\"display:none;\">\n",
              "\n",
              "  <svg xmlns=\"http://www.w3.org/2000/svg\" height=\"24px\" viewBox=\"0 -960 960 960\">\n",
              "    <path d=\"M120-120v-720h720v720H120Zm60-500h600v-160H180v160Zm220 220h160v-160H400v160Zm0 220h160v-160H400v160ZM180-400h160v-160H180v160Zm440 0h160v-160H620v160ZM180-180h160v-160H180v160Zm440 0h160v-160H620v160Z\"/>\n",
              "  </svg>\n",
              "    </button>\n",
              "\n",
              "  <style>\n",
              "    .colab-df-container {\n",
              "      display:flex;\n",
              "      gap: 12px;\n",
              "    }\n",
              "\n",
              "    .colab-df-convert {\n",
              "      background-color: #E8F0FE;\n",
              "      border: none;\n",
              "      border-radius: 50%;\n",
              "      cursor: pointer;\n",
              "      display: none;\n",
              "      fill: #1967D2;\n",
              "      height: 32px;\n",
              "      padding: 0 0 0 0;\n",
              "      width: 32px;\n",
              "    }\n",
              "\n",
              "    .colab-df-convert:hover {\n",
              "      background-color: #E2EBFA;\n",
              "      box-shadow: 0px 1px 2px rgba(60, 64, 67, 0.3), 0px 1px 3px 1px rgba(60, 64, 67, 0.15);\n",
              "      fill: #174EA6;\n",
              "    }\n",
              "\n",
              "    .colab-df-buttons div {\n",
              "      margin-bottom: 4px;\n",
              "    }\n",
              "\n",
              "    [theme=dark] .colab-df-convert {\n",
              "      background-color: #3B4455;\n",
              "      fill: #D2E3FC;\n",
              "    }\n",
              "\n",
              "    [theme=dark] .colab-df-convert:hover {\n",
              "      background-color: #434B5C;\n",
              "      box-shadow: 0px 1px 3px 1px rgba(0, 0, 0, 0.15);\n",
              "      filter: drop-shadow(0px 1px 2px rgba(0, 0, 0, 0.3));\n",
              "      fill: #FFFFFF;\n",
              "    }\n",
              "  </style>\n",
              "\n",
              "    <script>\n",
              "      const buttonEl =\n",
              "        document.querySelector('#df-7d3b7078-9690-429b-8551-15d7a4a27823 button.colab-df-convert');\n",
              "      buttonEl.style.display =\n",
              "        google.colab.kernel.accessAllowed ? 'block' : 'none';\n",
              "\n",
              "      async function convertToInteractive(key) {\n",
              "        const element = document.querySelector('#df-7d3b7078-9690-429b-8551-15d7a4a27823');\n",
              "        const dataTable =\n",
              "          await google.colab.kernel.invokeFunction('convertToInteractive',\n",
              "                                                    [key], {});\n",
              "        if (!dataTable) return;\n",
              "\n",
              "        const docLinkHtml = 'Like what you see? Visit the ' +\n",
              "          '<a target=\"_blank\" href=https://colab.research.google.com/notebooks/data_table.ipynb>data table notebook</a>'\n",
              "          + ' to learn more about interactive tables.';\n",
              "        element.innerHTML = '';\n",
              "        dataTable['output_type'] = 'display_data';\n",
              "        await google.colab.output.renderOutput(dataTable, element);\n",
              "        const docLink = document.createElement('div');\n",
              "        docLink.innerHTML = docLinkHtml;\n",
              "        element.appendChild(docLink);\n",
              "      }\n",
              "    </script>\n",
              "  </div>\n",
              "\n",
              "\n",
              "<div id=\"df-b56b9e09-10c5-4a26-b890-6fae03c62932\">\n",
              "  <button class=\"colab-df-quickchart\" onclick=\"quickchart('df-b56b9e09-10c5-4a26-b890-6fae03c62932')\"\n",
              "            title=\"Suggest charts\"\n",
              "            style=\"display:none;\">\n",
              "\n",
              "<svg xmlns=\"http://www.w3.org/2000/svg\" height=\"24px\"viewBox=\"0 0 24 24\"\n",
              "     width=\"24px\">\n",
              "    <g>\n",
              "        <path d=\"M19 3H5c-1.1 0-2 .9-2 2v14c0 1.1.9 2 2 2h14c1.1 0 2-.9 2-2V5c0-1.1-.9-2-2-2zM9 17H7v-7h2v7zm4 0h-2V7h2v10zm4 0h-2v-4h2v4z\"/>\n",
              "    </g>\n",
              "</svg>\n",
              "  </button>\n",
              "\n",
              "<style>\n",
              "  .colab-df-quickchart {\n",
              "      --bg-color: #E8F0FE;\n",
              "      --fill-color: #1967D2;\n",
              "      --hover-bg-color: #E2EBFA;\n",
              "      --hover-fill-color: #174EA6;\n",
              "      --disabled-fill-color: #AAA;\n",
              "      --disabled-bg-color: #DDD;\n",
              "  }\n",
              "\n",
              "  [theme=dark] .colab-df-quickchart {\n",
              "      --bg-color: #3B4455;\n",
              "      --fill-color: #D2E3FC;\n",
              "      --hover-bg-color: #434B5C;\n",
              "      --hover-fill-color: #FFFFFF;\n",
              "      --disabled-bg-color: #3B4455;\n",
              "      --disabled-fill-color: #666;\n",
              "  }\n",
              "\n",
              "  .colab-df-quickchart {\n",
              "    background-color: var(--bg-color);\n",
              "    border: none;\n",
              "    border-radius: 50%;\n",
              "    cursor: pointer;\n",
              "    display: none;\n",
              "    fill: var(--fill-color);\n",
              "    height: 32px;\n",
              "    padding: 0;\n",
              "    width: 32px;\n",
              "  }\n",
              "\n",
              "  .colab-df-quickchart:hover {\n",
              "    background-color: var(--hover-bg-color);\n",
              "    box-shadow: 0 1px 2px rgba(60, 64, 67, 0.3), 0 1px 3px 1px rgba(60, 64, 67, 0.15);\n",
              "    fill: var(--button-hover-fill-color);\n",
              "  }\n",
              "\n",
              "  .colab-df-quickchart-complete:disabled,\n",
              "  .colab-df-quickchart-complete:disabled:hover {\n",
              "    background-color: var(--disabled-bg-color);\n",
              "    fill: var(--disabled-fill-color);\n",
              "    box-shadow: none;\n",
              "  }\n",
              "\n",
              "  .colab-df-spinner {\n",
              "    border: 2px solid var(--fill-color);\n",
              "    border-color: transparent;\n",
              "    border-bottom-color: var(--fill-color);\n",
              "    animation:\n",
              "      spin 1s steps(1) infinite;\n",
              "  }\n",
              "\n",
              "  @keyframes spin {\n",
              "    0% {\n",
              "      border-color: transparent;\n",
              "      border-bottom-color: var(--fill-color);\n",
              "      border-left-color: var(--fill-color);\n",
              "    }\n",
              "    20% {\n",
              "      border-color: transparent;\n",
              "      border-left-color: var(--fill-color);\n",
              "      border-top-color: var(--fill-color);\n",
              "    }\n",
              "    30% {\n",
              "      border-color: transparent;\n",
              "      border-left-color: var(--fill-color);\n",
              "      border-top-color: var(--fill-color);\n",
              "      border-right-color: var(--fill-color);\n",
              "    }\n",
              "    40% {\n",
              "      border-color: transparent;\n",
              "      border-right-color: var(--fill-color);\n",
              "      border-top-color: var(--fill-color);\n",
              "    }\n",
              "    60% {\n",
              "      border-color: transparent;\n",
              "      border-right-color: var(--fill-color);\n",
              "    }\n",
              "    80% {\n",
              "      border-color: transparent;\n",
              "      border-right-color: var(--fill-color);\n",
              "      border-bottom-color: var(--fill-color);\n",
              "    }\n",
              "    90% {\n",
              "      border-color: transparent;\n",
              "      border-bottom-color: var(--fill-color);\n",
              "    }\n",
              "  }\n",
              "</style>\n",
              "\n",
              "  <script>\n",
              "    async function quickchart(key) {\n",
              "      const quickchartButtonEl =\n",
              "        document.querySelector('#' + key + ' button');\n",
              "      quickchartButtonEl.disabled = true;  // To prevent multiple clicks.\n",
              "      quickchartButtonEl.classList.add('colab-df-spinner');\n",
              "      try {\n",
              "        const charts = await google.colab.kernel.invokeFunction(\n",
              "            'suggestCharts', [key], {});\n",
              "      } catch (error) {\n",
              "        console.error('Error during call to suggestCharts:', error);\n",
              "      }\n",
              "      quickchartButtonEl.classList.remove('colab-df-spinner');\n",
              "      quickchartButtonEl.classList.add('colab-df-quickchart-complete');\n",
              "    }\n",
              "    (() => {\n",
              "      let quickchartButtonEl =\n",
              "        document.querySelector('#df-b56b9e09-10c5-4a26-b890-6fae03c62932 button');\n",
              "      quickchartButtonEl.style.display =\n",
              "        google.colab.kernel.accessAllowed ? 'block' : 'none';\n",
              "    })();\n",
              "  </script>\n",
              "</div>\n",
              "\n",
              "    </div>\n",
              "  </div>\n"
            ],
            "application/vnd.google.colaboratory.intrinsic+json": {
              "type": "dataframe",
              "summary": "{\n  \"name\": \"defog_W_test\",\n  \"rows\": 1285,\n  \"fields\": [\n    {\n      \"column\": \"PC1\",\n      \"properties\": {\n        \"dtype\": \"number\",\n        \"std\": 1.5890378740653617,\n        \"min\": -5.946879168081831,\n        \"max\": 4.482148903972039,\n        \"num_unique_values\": 1285,\n        \"samples\": [\n          2.2192533598512942,\n          2.6421351315794475,\n          0.1480881747228118\n        ],\n        \"semantic_type\": \"\",\n        \"description\": \"\"\n      }\n    },\n    {\n      \"column\": \"PC2\",\n      \"properties\": {\n        \"dtype\": \"number\",\n        \"std\": 0.7882501732363403,\n        \"min\": -4.398452797930448,\n        \"max\": 4.188929187505809,\n        \"num_unique_values\": 1285,\n        \"samples\": [\n          -0.9293683064809556,\n          -0.5778538215616671,\n          -1.1013715169569875\n        ],\n        \"semantic_type\": \"\",\n        \"description\": \"\"\n      }\n    },\n    {\n      \"column\": \"PC3\",\n      \"properties\": {\n        \"dtype\": \"number\",\n        \"std\": 0.9969026890752553,\n        \"min\": -8.115187110933553,\n        \"max\": 2.016679531214815,\n        \"num_unique_values\": 1285,\n        \"samples\": [\n          0.354999168379821,\n          -0.0064885786954323,\n          1.1622825604754594\n        ],\n        \"semantic_type\": \"\",\n        \"description\": \"\"\n      }\n    },\n    {\n      \"column\": \"PC4\",\n      \"properties\": {\n        \"dtype\": \"number\",\n        \"std\": 1.062592296818029,\n        \"min\": -5.173983726959509,\n        \"max\": 8.674330149208389,\n        \"num_unique_values\": 1285,\n        \"samples\": [\n          0.1863100307606091,\n          -0.5294445918733851,\n          -1.1028133991322608\n        ],\n        \"semantic_type\": \"\",\n        \"description\": \"\"\n      }\n    },\n    {\n      \"column\": \"PC5\",\n      \"properties\": {\n        \"dtype\": \"number\",\n        \"std\": 0.698183481622558,\n        \"min\": -1.8256617268223128,\n        \"max\": 8.254334582230406,\n        \"num_unique_values\": 1285,\n        \"samples\": [\n          0.0268357226063285,\n          -0.0382725626543266,\n          0.1631930625189452\n        ],\n        \"semantic_type\": \"\",\n        \"description\": \"\"\n      }\n    },\n    {\n      \"column\": \"PC6\",\n      \"properties\": {\n        \"dtype\": \"number\",\n        \"std\": 0.6201608750133253,\n        \"min\": -2.7724985985798343,\n        \"max\": 7.170459837657912,\n        \"num_unique_values\": 1285,\n        \"samples\": [\n          -0.0878519400733235,\n          0.5578455783875169,\n          -0.0248586664973141\n        ],\n        \"semantic_type\": \"\",\n        \"description\": \"\"\n      }\n    },\n    {\n      \"column\": \"PC7\",\n      \"properties\": {\n        \"dtype\": \"number\",\n        \"std\": 0.45997412904041135,\n        \"min\": -2.0162493156703407,\n        \"max\": 3.6712298478328576,\n        \"num_unique_values\": 1285,\n        \"samples\": [\n          -0.1090171828569541,\n          0.1584263687859696,\n          -0.0550317297581103\n        ],\n        \"semantic_type\": \"\",\n        \"description\": \"\"\n      }\n    },\n    {\n      \"column\": \"PC8\",\n      \"properties\": {\n        \"dtype\": \"number\",\n        \"std\": 0.23066044857723392,\n        \"min\": -0.9184171049757568,\n        \"max\": 1.1394138405303318,\n        \"num_unique_values\": 1285,\n        \"samples\": [\n          -0.217815711613585,\n          -0.1735228172159082,\n          0.3667914583055041\n        ],\n        \"semantic_type\": \"\",\n        \"description\": \"\"\n      }\n    },\n    {\n      \"column\": \"Walking\",\n      \"properties\": {\n        \"dtype\": \"number\",\n        \"std\": 0,\n        \"min\": 0,\n        \"max\": 1,\n        \"num_unique_values\": 2,\n        \"samples\": [\n          1,\n          0\n        ],\n        \"semantic_type\": \"\",\n        \"description\": \"\"\n      }\n    }\n  ]\n}"
            }
          },
          "metadata": {},
          "execution_count": 9
        }
      ],
      "source": [
        "#Drop the unnamed column\n",
        "tdcsfog_turn.drop(columns= [\"Unnamed: 0\"])\n",
        "tdcsfog_SH.drop(columns= [\"Unnamed: 0\"])\n",
        "tdcsfog_W.drop(columns= [\"Unnamed: 0\"])\n",
        "\n",
        "tdcsfog_turn_test.drop(columns= [\"Unnamed: 0\"])\n",
        "tdcsfog_SH_test.drop(columns= [\"Unnamed: 0\"])\n",
        "tdcsfog_W_test.drop(columns= [\"Unnamed: 0\"])\n",
        "\n",
        "defog_turn.drop(columns= [\"Unnamed: 0\"])\n",
        "defog_SH.drop(columns= [\"Unnamed: 0\"])\n",
        "defog_W.drop(columns= [\"Unnamed: 0\"])\n",
        "\n",
        "defog_turn_test.drop(columns= [\"Unnamed: 0\"])\n",
        "defog_SH_test.drop(columns= [\"Unnamed: 0\"])\n",
        "defog_W_test.drop(columns= [\"Unnamed: 0\"])\n",
        "\n"
      ]
    },
    {
      "cell_type": "code",
      "execution_count": null,
      "metadata": {
        "id": "kHBqdYHrtqBo"
      },
      "outputs": [],
      "source": [
        "#Defog Turn\n",
        "X_train_defog_Turn = defog_turn.drop(columns = [\"Turn\"])\n",
        "y_train_defog_Turn = defog_turn[\"Turn\"]\n",
        "\n",
        "X_test_defog_Turn =  defog_turn_test.drop(columns = [\"Turn\"])\n",
        "y_test_defog_Turn = defog_turn_test[\"Turn\"]\n",
        "\n",
        "#Defog SH\n",
        "X_train_defog_SH = defog_SH.drop(columns = [\"StartHesitation\"])\n",
        "y_train_defog_SH = defog_SH[\"StartHesitation\"]\n",
        "\n",
        "X_test_defog_SH =  defog_SH_test.drop(columns = [\"StartHesitation\"])\n",
        "y_test_defog_SH = defog_SH_test[\"StartHesitation\"]\n",
        "\n",
        "#Defog Walking\n",
        "X_train_defog_W = defog_W.drop(columns = [\"Walking\"])\n",
        "y_train_defog_W = defog_W[\"Walking\"]\n",
        "\n",
        "X_test_defog_W =  defog_W_test.drop(columns = [\"Walking\"])\n",
        "y_test_defog_W = defog_W_test[\"Walking\"]"
      ]
    },
    {
      "cell_type": "code",
      "execution_count": null,
      "metadata": {
        "id": "5tGmYSUyY_aN"
      },
      "outputs": [],
      "source": [
        "#Tdcsfog Turn\n",
        "X_train_tdcsfog_Turn = tdcsfog_turn.drop(columns = [\"Turn\"])\n",
        "y_train_tdcsfog_Turn = tdcsfog_turn[\"Turn\"]\n",
        "\n",
        "X_test_tdcsfog_Turn =  tdcsfog_turn_test.drop(columns = [\"Turn\"])\n",
        "y_test_tdcsfog_Turn = tdcsfog_turn_test[\"Turn\"]\n",
        "\n",
        "#Tdcsfog SH\n",
        "X_train_tdcsfog_SH = tdcsfog_SH.drop(columns = [\"StartHesitation\"])\n",
        "y_train_tdcsfog_SH = tdcsfog_SH[\"StartHesitation\"]\n",
        "\n",
        "X_test_tdcsfog_SH =  tdcsfog_SH_test.drop(columns = [\"StartHesitation\"])\n",
        "y_test_tdcsfog_SH = tdcsfog_SH_test[\"StartHesitation\"]\n",
        "\n",
        "#Tdcsfog Walking\n",
        "X_train_tdcsfog_W = tdcsfog_W.drop(columns = [\"Walking\"])\n",
        "y_train_tdcsfog_W = tdcsfog_W[\"Walking\"]\n",
        "\n",
        "X_test_tdcsfog_W =  tdcsfog_W_test.drop(columns = [\"Walking\"])\n",
        "y_test_tdcsfog_W = tdcsfog_W_test[\"Walking\"]"
      ]
    },
    {
      "cell_type": "code",
      "execution_count": null,
      "metadata": {
        "id": "NvQjAez_ZVce"
      },
      "outputs": [],
      "source": [
        "from sklearn.model_selection import train_test_split, cross_val_score, GridSearchCV\n",
        "from sklearn.ensemble import RandomForestRegressor, GradientBoostingRegressor\n",
        "from sklearn.tree import DecisionTreeRegressor\n",
        "from sklearn.ensemble import RandomForestClassifier\n",
        "from sklearn.metrics import roc_curve, auc\n",
        "from sklearn.tree import DecisionTreeClassifier\n",
        "from sklearn.metrics import accuracy_score, classification_report\n",
        "import scipy.stats as stats"
      ]
    },
    {
      "cell_type": "markdown",
      "metadata": {
        "id": "nzIAT1S4ZhcG"
      },
      "source": [
        "# Model"
      ]
    },
    {
      "cell_type": "code",
      "execution_count": null,
      "metadata": {
        "id": "BSV48t-TZ3Fc"
      },
      "outputs": [],
      "source": [
        "import numpy as np\n",
        "import pandas as pd\n",
        "from sklearn.datasets import load_digits\n",
        "from sklearn.model_selection import train_test_split, GridSearchCV, StratifiedKFold\n",
        "from sklearn.pipeline import Pipeline\n",
        "from sklearn.ensemble import RandomForestClassifier\n",
        "from sklearn.feature_selection import RFECV\n",
        "from sklearn.metrics import roc_auc_score"
      ]
    },
    {
      "cell_type": "code",
      "execution_count": null,
      "metadata": {
        "id": "m2yugf1CZ6u2"
      },
      "outputs": [],
      "source": [
        "# Fit the model\n",
        "def gridSearchCV(X_train, y_train):\n",
        "  param_grid = {\n",
        "    'n_estimators': [70, 100, 150, 200],\n",
        "    'max_depth': [None, 100,200,300],\n",
        "    'min_samples_split': [2, 5, 7, 9],\n",
        "    'min_samples_leaf': [1, 2, 4,7],\n",
        "  }\n",
        "  modelRF = RandomForestClassifier(random_state=42)\n",
        "\n",
        "  # Define the GridSearchCV\n",
        "  grid_search = GridSearchCV(estimator=modelRF, param_grid=param_grid, cv=5, n_jobs=-1, verbose=2, scoring='f1_macro')\n",
        "\n",
        "  #Run the search\n",
        "  grid_search.fit(X_train, y_train)\n",
        "\n",
        "  # Get the best parameters and score\n",
        "  print(\"Best parameters found: \", grid_search.best_params_)\n",
        "  print(\"Best cross-validation score: \", grid_search.best_score_)\n",
        "  return grid_search.best_estimator_\n"
      ]
    },
    {
      "cell_type": "code",
      "execution_count": null,
      "metadata": {
        "colab": {
          "base_uri": "https://localhost:8080/",
          "height": 315
        },
        "id": "YjXa8n_-ckA0",
        "outputId": "4b555a5e-6d32-4de7-8491-36a8f74610fc"
      },
      "outputs": [
        {
          "name": "stdout",
          "output_type": "stream",
          "text": [
            "Fitting 5 folds for each of 256 candidates, totalling 1280 fits\n"
          ]
        },
        {
          "ename": "KeyboardInterrupt",
          "evalue": "",
          "output_type": "error",
          "traceback": [
            "\u001b[0;31m---------------------------------------------------------------------------\u001b[0m",
            "\u001b[0;31mKeyboardInterrupt\u001b[0m                         Traceback (most recent call last)",
            "\u001b[0;32m<ipython-input-15-6b5789eff94b>\u001b[0m in \u001b[0;36m<cell line: 1>\u001b[0;34m()\u001b[0m\n\u001b[0;32m----> 1\u001b[0;31m \u001b[0mbestMode\u001b[0m \u001b[0;34m=\u001b[0m \u001b[0mgridSearchCV\u001b[0m\u001b[0;34m(\u001b[0m\u001b[0mX_train_defog_Turn\u001b[0m\u001b[0;34m,\u001b[0m \u001b[0my_train_defog_Turn\u001b[0m\u001b[0;34m)\u001b[0m\u001b[0;34m\u001b[0m\u001b[0;34m\u001b[0m\u001b[0m\n\u001b[0m",
            "\u001b[0;32m<ipython-input-14-4880b0a516b9>\u001b[0m in \u001b[0;36mgridSearchCV\u001b[0;34m(X_train, y_train)\u001b[0m\n\u001b[1;32m     13\u001b[0m \u001b[0;34m\u001b[0m\u001b[0m\n\u001b[1;32m     14\u001b[0m   \u001b[0;31m#Run the search\u001b[0m\u001b[0;34m\u001b[0m\u001b[0;34m\u001b[0m\u001b[0m\n\u001b[0;32m---> 15\u001b[0;31m   \u001b[0mgrid_search\u001b[0m\u001b[0;34m.\u001b[0m\u001b[0mfit\u001b[0m\u001b[0;34m(\u001b[0m\u001b[0mX_train\u001b[0m\u001b[0;34m,\u001b[0m \u001b[0my_train\u001b[0m\u001b[0;34m)\u001b[0m\u001b[0;34m\u001b[0m\u001b[0;34m\u001b[0m\u001b[0m\n\u001b[0m\u001b[1;32m     16\u001b[0m \u001b[0;34m\u001b[0m\u001b[0m\n\u001b[1;32m     17\u001b[0m   \u001b[0;31m# Get the best parameters and score\u001b[0m\u001b[0;34m\u001b[0m\u001b[0;34m\u001b[0m\u001b[0m\n",
            "\u001b[0;32m/usr/local/lib/python3.10/dist-packages/sklearn/base.py\u001b[0m in \u001b[0;36mwrapper\u001b[0;34m(estimator, *args, **kwargs)\u001b[0m\n\u001b[1;32m   1471\u001b[0m                 )\n\u001b[1;32m   1472\u001b[0m             ):\n\u001b[0;32m-> 1473\u001b[0;31m                 \u001b[0;32mreturn\u001b[0m \u001b[0mfit_method\u001b[0m\u001b[0;34m(\u001b[0m\u001b[0mestimator\u001b[0m\u001b[0;34m,\u001b[0m \u001b[0;34m*\u001b[0m\u001b[0margs\u001b[0m\u001b[0;34m,\u001b[0m \u001b[0;34m**\u001b[0m\u001b[0mkwargs\u001b[0m\u001b[0;34m)\u001b[0m\u001b[0;34m\u001b[0m\u001b[0;34m\u001b[0m\u001b[0m\n\u001b[0m\u001b[1;32m   1474\u001b[0m \u001b[0;34m\u001b[0m\u001b[0m\n\u001b[1;32m   1475\u001b[0m         \u001b[0;32mreturn\u001b[0m \u001b[0mwrapper\u001b[0m\u001b[0;34m\u001b[0m\u001b[0;34m\u001b[0m\u001b[0m\n",
            "\u001b[0;32m/usr/local/lib/python3.10/dist-packages/sklearn/model_selection/_search.py\u001b[0m in \u001b[0;36mfit\u001b[0;34m(self, X, y, **params)\u001b[0m\n\u001b[1;32m   1017\u001b[0m                 \u001b[0;32mreturn\u001b[0m \u001b[0mresults\u001b[0m\u001b[0;34m\u001b[0m\u001b[0;34m\u001b[0m\u001b[0m\n\u001b[1;32m   1018\u001b[0m \u001b[0;34m\u001b[0m\u001b[0m\n\u001b[0;32m-> 1019\u001b[0;31m             \u001b[0mself\u001b[0m\u001b[0;34m.\u001b[0m\u001b[0m_run_search\u001b[0m\u001b[0;34m(\u001b[0m\u001b[0mevaluate_candidates\u001b[0m\u001b[0;34m)\u001b[0m\u001b[0;34m\u001b[0m\u001b[0;34m\u001b[0m\u001b[0m\n\u001b[0m\u001b[1;32m   1020\u001b[0m \u001b[0;34m\u001b[0m\u001b[0m\n\u001b[1;32m   1021\u001b[0m             \u001b[0;31m# multimetric is determined here because in the case of a callable\u001b[0m\u001b[0;34m\u001b[0m\u001b[0;34m\u001b[0m\u001b[0m\n",
            "\u001b[0;32m/usr/local/lib/python3.10/dist-packages/sklearn/model_selection/_search.py\u001b[0m in \u001b[0;36m_run_search\u001b[0;34m(self, evaluate_candidates)\u001b[0m\n\u001b[1;32m   1571\u001b[0m     \u001b[0;32mdef\u001b[0m \u001b[0m_run_search\u001b[0m\u001b[0;34m(\u001b[0m\u001b[0mself\u001b[0m\u001b[0;34m,\u001b[0m \u001b[0mevaluate_candidates\u001b[0m\u001b[0;34m)\u001b[0m\u001b[0;34m:\u001b[0m\u001b[0;34m\u001b[0m\u001b[0;34m\u001b[0m\u001b[0m\n\u001b[1;32m   1572\u001b[0m         \u001b[0;34m\"\"\"Search all candidates in param_grid\"\"\"\u001b[0m\u001b[0;34m\u001b[0m\u001b[0;34m\u001b[0m\u001b[0m\n\u001b[0;32m-> 1573\u001b[0;31m         \u001b[0mevaluate_candidates\u001b[0m\u001b[0;34m(\u001b[0m\u001b[0mParameterGrid\u001b[0m\u001b[0;34m(\u001b[0m\u001b[0mself\u001b[0m\u001b[0;34m.\u001b[0m\u001b[0mparam_grid\u001b[0m\u001b[0;34m)\u001b[0m\u001b[0;34m)\u001b[0m\u001b[0;34m\u001b[0m\u001b[0;34m\u001b[0m\u001b[0m\n\u001b[0m\u001b[1;32m   1574\u001b[0m \u001b[0;34m\u001b[0m\u001b[0m\n\u001b[1;32m   1575\u001b[0m \u001b[0;34m\u001b[0m\u001b[0m\n",
            "\u001b[0;32m/usr/local/lib/python3.10/dist-packages/sklearn/model_selection/_search.py\u001b[0m in \u001b[0;36mevaluate_candidates\u001b[0;34m(candidate_params, cv, more_results)\u001b[0m\n\u001b[1;32m    963\u001b[0m                     )\n\u001b[1;32m    964\u001b[0m \u001b[0;34m\u001b[0m\u001b[0m\n\u001b[0;32m--> 965\u001b[0;31m                 out = parallel(\n\u001b[0m\u001b[1;32m    966\u001b[0m                     delayed(_fit_and_score)(\n\u001b[1;32m    967\u001b[0m                         \u001b[0mclone\u001b[0m\u001b[0;34m(\u001b[0m\u001b[0mbase_estimator\u001b[0m\u001b[0;34m)\u001b[0m\u001b[0;34m,\u001b[0m\u001b[0;34m\u001b[0m\u001b[0;34m\u001b[0m\u001b[0m\n",
            "\u001b[0;32m/usr/local/lib/python3.10/dist-packages/sklearn/utils/parallel.py\u001b[0m in \u001b[0;36m__call__\u001b[0;34m(self, iterable)\u001b[0m\n\u001b[1;32m     72\u001b[0m             \u001b[0;32mfor\u001b[0m \u001b[0mdelayed_func\u001b[0m\u001b[0;34m,\u001b[0m \u001b[0margs\u001b[0m\u001b[0;34m,\u001b[0m \u001b[0mkwargs\u001b[0m \u001b[0;32min\u001b[0m \u001b[0miterable\u001b[0m\u001b[0;34m\u001b[0m\u001b[0;34m\u001b[0m\u001b[0m\n\u001b[1;32m     73\u001b[0m         )\n\u001b[0;32m---> 74\u001b[0;31m         \u001b[0;32mreturn\u001b[0m \u001b[0msuper\u001b[0m\u001b[0;34m(\u001b[0m\u001b[0;34m)\u001b[0m\u001b[0;34m.\u001b[0m\u001b[0m__call__\u001b[0m\u001b[0;34m(\u001b[0m\u001b[0miterable_with_config\u001b[0m\u001b[0;34m)\u001b[0m\u001b[0;34m\u001b[0m\u001b[0;34m\u001b[0m\u001b[0m\n\u001b[0m\u001b[1;32m     75\u001b[0m \u001b[0;34m\u001b[0m\u001b[0m\n\u001b[1;32m     76\u001b[0m \u001b[0;34m\u001b[0m\u001b[0m\n",
            "\u001b[0;32m/usr/local/lib/python3.10/dist-packages/joblib/parallel.py\u001b[0m in \u001b[0;36m__call__\u001b[0;34m(self, iterable)\u001b[0m\n\u001b[1;32m   2005\u001b[0m         \u001b[0mnext\u001b[0m\u001b[0;34m(\u001b[0m\u001b[0moutput\u001b[0m\u001b[0;34m)\u001b[0m\u001b[0;34m\u001b[0m\u001b[0;34m\u001b[0m\u001b[0m\n\u001b[1;32m   2006\u001b[0m \u001b[0;34m\u001b[0m\u001b[0m\n\u001b[0;32m-> 2007\u001b[0;31m         \u001b[0;32mreturn\u001b[0m \u001b[0moutput\u001b[0m \u001b[0;32mif\u001b[0m \u001b[0mself\u001b[0m\u001b[0;34m.\u001b[0m\u001b[0mreturn_generator\u001b[0m \u001b[0;32melse\u001b[0m \u001b[0mlist\u001b[0m\u001b[0;34m(\u001b[0m\u001b[0moutput\u001b[0m\u001b[0;34m)\u001b[0m\u001b[0;34m\u001b[0m\u001b[0;34m\u001b[0m\u001b[0m\n\u001b[0m\u001b[1;32m   2008\u001b[0m \u001b[0;34m\u001b[0m\u001b[0m\n\u001b[1;32m   2009\u001b[0m     \u001b[0;32mdef\u001b[0m \u001b[0m__repr__\u001b[0m\u001b[0;34m(\u001b[0m\u001b[0mself\u001b[0m\u001b[0;34m)\u001b[0m\u001b[0;34m:\u001b[0m\u001b[0;34m\u001b[0m\u001b[0;34m\u001b[0m\u001b[0m\n",
            "\u001b[0;32m/usr/local/lib/python3.10/dist-packages/joblib/parallel.py\u001b[0m in \u001b[0;36m_get_outputs\u001b[0;34m(self, iterator, pre_dispatch)\u001b[0m\n\u001b[1;32m   1648\u001b[0m \u001b[0;34m\u001b[0m\u001b[0m\n\u001b[1;32m   1649\u001b[0m             \u001b[0;32mwith\u001b[0m \u001b[0mself\u001b[0m\u001b[0;34m.\u001b[0m\u001b[0m_backend\u001b[0m\u001b[0;34m.\u001b[0m\u001b[0mretrieval_context\u001b[0m\u001b[0;34m(\u001b[0m\u001b[0;34m)\u001b[0m\u001b[0;34m:\u001b[0m\u001b[0;34m\u001b[0m\u001b[0;34m\u001b[0m\u001b[0m\n\u001b[0;32m-> 1650\u001b[0;31m                 \u001b[0;32myield\u001b[0m \u001b[0;32mfrom\u001b[0m \u001b[0mself\u001b[0m\u001b[0;34m.\u001b[0m\u001b[0m_retrieve\u001b[0m\u001b[0;34m(\u001b[0m\u001b[0;34m)\u001b[0m\u001b[0;34m\u001b[0m\u001b[0;34m\u001b[0m\u001b[0m\n\u001b[0m\u001b[1;32m   1651\u001b[0m \u001b[0;34m\u001b[0m\u001b[0m\n\u001b[1;32m   1652\u001b[0m         \u001b[0;32mexcept\u001b[0m \u001b[0mGeneratorExit\u001b[0m\u001b[0;34m:\u001b[0m\u001b[0;34m\u001b[0m\u001b[0;34m\u001b[0m\u001b[0m\n",
            "\u001b[0;32m/usr/local/lib/python3.10/dist-packages/joblib/parallel.py\u001b[0m in \u001b[0;36m_retrieve\u001b[0;34m(self)\u001b[0m\n\u001b[1;32m   1760\u001b[0m                 (self._jobs[0].get_status(\n\u001b[1;32m   1761\u001b[0m                     timeout=self.timeout) == TASK_PENDING)):\n\u001b[0;32m-> 1762\u001b[0;31m                 \u001b[0mtime\u001b[0m\u001b[0;34m.\u001b[0m\u001b[0msleep\u001b[0m\u001b[0;34m(\u001b[0m\u001b[0;36m0.01\u001b[0m\u001b[0;34m)\u001b[0m\u001b[0;34m\u001b[0m\u001b[0;34m\u001b[0m\u001b[0m\n\u001b[0m\u001b[1;32m   1763\u001b[0m                 \u001b[0;32mcontinue\u001b[0m\u001b[0;34m\u001b[0m\u001b[0;34m\u001b[0m\u001b[0m\n\u001b[1;32m   1764\u001b[0m \u001b[0;34m\u001b[0m\u001b[0m\n",
            "\u001b[0;31mKeyboardInterrupt\u001b[0m: "
          ]
        }
      ],
      "source": [
        "bestMode = gridSearchCV(X_train_defog_Turn, y_train_defog_Turn)"
      ]
    },
    {
      "cell_type": "code",
      "execution_count": null,
      "metadata": {
        "id": "AubPoVdiqxz7"
      },
      "outputs": [],
      "source": [
        "from sklearn.metrics import precision_score, recall_score, f1_score\n"
      ]
    },
    {
      "cell_type": "code",
      "execution_count": null,
      "metadata": {
        "id": "8h7X1djgu5pF"
      },
      "outputs": [],
      "source": [
        "def runBestModel(bestMode, X_train, y_train, X_test, y_test):\n",
        "  bestMode.fit(X_train, y_train)\n",
        "  y_pred = bestMode.predict(X_test)\n",
        "  print(\"Test Accuracy:\", accuracy_score(y_test, y_pred))\n",
        "  #print(\"Classification Report:\\n\", classification_report(y_test, y_pred))\n",
        "\n",
        "  precision = precision_score(y_test, y_pred, average='weighted')\n",
        "  recall = recall_score(y_test, y_pred, average='weighted')\n",
        "  f1 = f1_score(y_test, y_pred, average='weighted')\n",
        "\n",
        "  print(f\"Precision: {precision}\")\n",
        "  print(f\"Recall: {recall}\")\n",
        "  print(f\"F1 Score: {f1}\")"
      ]
    },
    {
      "cell_type": "code",
      "execution_count": null,
      "metadata": {
        "colab": {
          "base_uri": "https://localhost:8080/"
        },
        "id": "Gj7vIdrfvnEP",
        "outputId": "37b060da-81ae-416f-e646-82426f5fd9a0"
      },
      "outputs": [
        {
          "name": "stdout",
          "output_type": "stream",
          "text": [
            "Test Accuracy: 0.6326848249027237\n",
            "Precision: 0.40029008766219015\n",
            "Recall: 0.6326848249027237\n",
            "F1 Score: 0.49034581758428447\n",
            "Turn for Defog\n"
          ]
        },
        {
          "name": "stderr",
          "output_type": "stream",
          "text": [
            "/usr/local/lib/python3.10/dist-packages/sklearn/metrics/_classification.py:1531: UndefinedMetricWarning: Precision is ill-defined and being set to 0.0 in labels with no predicted samples. Use `zero_division` parameter to control this behavior.\n",
            "  _warn_prf(average, modifier, f\"{metric.capitalize()} is\", len(result))\n"
          ]
        }
      ],
      "source": [
        "runBestModel(bestMode,X_train_defog_Turn, y_train_defog_Turn, X_test_defog_Turn, y_test_defog_Turn )\n",
        "print(\"Turn for Defog\")"
      ]
    },
    {
      "cell_type": "code",
      "execution_count": null,
      "metadata": {
        "colab": {
          "base_uri": "https://localhost:8080/"
        },
        "id": "AQ3Lct9hvyVR",
        "outputId": "8fa41c0a-9b6e-4526-fd88-299a1b123cc4"
      },
      "outputs": [
        {
          "name": "stdout",
          "output_type": "stream",
          "text": [
            "Fitting 3 folds for each of 81 candidates, totalling 243 fits\n",
            "Best parameters found:  {'max_depth': None, 'min_samples_leaf': 2, 'min_samples_split': 5, 'n_estimators': 20}\n",
            "Best cross-validation score:  0.8629460773461796\n"
          ]
        }
      ],
      "source": [
        "bestModeDefogSH = gridSearchCV(X_train_defog_SH, y_train_defog_SH)"
      ]
    },
    {
      "cell_type": "code",
      "execution_count": null,
      "metadata": {
        "colab": {
          "base_uri": "https://localhost:8080/"
        },
        "id": "lckdZfuRx8vd",
        "outputId": "1c00f276-3377-49d0-c1dd-0b07242c2ee6"
      },
      "outputs": [
        {
          "name": "stdout",
          "output_type": "stream",
          "text": [
            "Start Hesitation for Defog\n",
            "Test Accuracy: 1.0\n",
            "Precision: 1.0\n",
            "Recall: 1.0\n",
            "F1 Score: 1.0\n"
          ]
        }
      ],
      "source": [
        "print(\"Start Hesitation for Defog\")\n",
        "runBestModel(bestModeDefogSH,X_train_defog_SH, y_train_defog_SH, X_test_defog_SH, y_test_defog_SH )"
      ]
    },
    {
      "cell_type": "code",
      "execution_count": null,
      "metadata": {
        "colab": {
          "base_uri": "https://localhost:8080/"
        },
        "id": "F6YrHT1-yHgV",
        "outputId": "487f0f14-6ac7-48ec-c60e-cd79129f1a03"
      },
      "outputs": [
        {
          "name": "stdout",
          "output_type": "stream",
          "text": [
            "Fitting 3 folds for each of 81 candidates, totalling 243 fits\n",
            "Best parameters found:  {'max_depth': None, 'min_samples_leaf': 1, 'min_samples_split': 2, 'n_estimators': 20}\n",
            "Best cross-validation score:  0.833365221545192\n"
          ]
        }
      ],
      "source": [
        "bestModeDefogW = gridSearchCV(X_train_defog_W, y_train_defog_W)"
      ]
    },
    {
      "cell_type": "code",
      "execution_count": null,
      "metadata": {
        "colab": {
          "base_uri": "https://localhost:8080/"
        },
        "id": "S4HHa9LlyUcJ",
        "outputId": "22f41512-c860-40e5-b6a5-fa1c4a31a4f6"
      },
      "outputs": [
        {
          "name": "stdout",
          "output_type": "stream",
          "text": [
            "Walking for Defog\n",
            "Test Accuracy: 0.977431906614786\n",
            "Precision: 0.9553731320686157\n",
            "Recall: 0.977431906614786\n",
            "F1 Score: 0.9662766428242198\n"
          ]
        },
        {
          "name": "stderr",
          "output_type": "stream",
          "text": [
            "/usr/local/lib/python3.10/dist-packages/sklearn/metrics/_classification.py:1531: UndefinedMetricWarning: Precision is ill-defined and being set to 0.0 in labels with no predicted samples. Use `zero_division` parameter to control this behavior.\n",
            "  _warn_prf(average, modifier, f\"{metric.capitalize()} is\", len(result))\n"
          ]
        }
      ],
      "source": [
        "print(\"Walking for Defog\")\n",
        "runBestModel(bestModeDefogW,X_train_defog_W, y_train_defog_W, X_test_defog_W, y_test_defog_W )"
      ]
    },
    {
      "cell_type": "code",
      "execution_count": null,
      "metadata": {
        "colab": {
          "base_uri": "https://localhost:8080/"
        },
        "id": "ABTvl6VxyaDj",
        "outputId": "e40518af-2cb1-45da-b1e7-d94db185be31"
      },
      "outputs": [
        {
          "output_type": "stream",
          "name": "stdout",
          "text": [
            "Fitting 5 folds for each of 256 candidates, totalling 1280 fits\n",
            "Best parameters found:  {'max_depth': None, 'min_samples_leaf': 1, 'min_samples_split': 2, 'n_estimators': 70}\n",
            "Best cross-validation score:  0.8932280837241908\n"
          ]
        }
      ],
      "source": [
        "bestModeTdcsfogTurn = gridSearchCV(X_train_tdcsfog_Turn, y_train_tdcsfog_Turn)"
      ]
    },
    {
      "cell_type": "code",
      "execution_count": null,
      "metadata": {
        "colab": {
          "base_uri": "https://localhost:8080/"
        },
        "id": "PbqhytvNzOmJ",
        "outputId": "3272c45a-70c6-4fa0-a594-d414d8c3095a"
      },
      "outputs": [
        {
          "output_type": "stream",
          "name": "stdout",
          "text": [
            "Turn for Tdcsfog\n",
            "Test Accuracy: 0.37950138504155123\n",
            "Precision: 0.14402130124845572\n",
            "Recall: 0.37950138504155123\n",
            "F1 Score: 0.2088019668702511\n"
          ]
        },
        {
          "output_type": "stream",
          "name": "stderr",
          "text": [
            "/usr/local/lib/python3.10/dist-packages/sklearn/metrics/_classification.py:1531: UndefinedMetricWarning: Precision is ill-defined and being set to 0.0 in labels with no predicted samples. Use `zero_division` parameter to control this behavior.\n",
            "  _warn_prf(average, modifier, f\"{metric.capitalize()} is\", len(result))\n"
          ]
        }
      ],
      "source": [
        "print(\"Turn for Tdcsfog\")\n",
        "runBestModel(bestModeTdcsfogTurn,X_train_tdcsfog_Turn, y_train_tdcsfog_Turn, X_test_tdcsfog_Turn, y_test_tdcsfog_Turn)"
      ]
    },
    {
      "cell_type": "code",
      "execution_count": null,
      "metadata": {
        "colab": {
          "base_uri": "https://localhost:8080/",
          "height": 146
        },
        "id": "gFolihWgzliN",
        "outputId": "c9364b6f-9415-4315-81b5-27d34057507e"
      },
      "outputs": [
        {
          "output_type": "error",
          "ename": "NameError",
          "evalue": "name 'X_train_tdcsfog_W' is not defined",
          "traceback": [
            "\u001b[0;31m---------------------------------------------------------------------------\u001b[0m",
            "\u001b[0;31mNameError\u001b[0m                                 Traceback (most recent call last)",
            "\u001b[0;32m<ipython-input-15-39a603360ad9>\u001b[0m in \u001b[0;36m<cell line: 1>\u001b[0;34m()\u001b[0m\n\u001b[0;32m----> 1\u001b[0;31m \u001b[0mbestModeTdcsfogW\u001b[0m \u001b[0;34m=\u001b[0m \u001b[0mgridSearchCV\u001b[0m\u001b[0;34m(\u001b[0m\u001b[0mX_train_tdcsfog_W\u001b[0m\u001b[0;34m,\u001b[0m \u001b[0my_train_tdcsfog_W\u001b[0m\u001b[0;34m)\u001b[0m\u001b[0;34m\u001b[0m\u001b[0;34m\u001b[0m\u001b[0m\n\u001b[0m",
            "\u001b[0;31mNameError\u001b[0m: name 'X_train_tdcsfog_W' is not defined"
          ]
        }
      ],
      "source": [
        "bestModeTdcsfogW = gridSearchCV(X_train_tdcsfog_W, y_train_tdcsfog_W)"
      ]
    },
    {
      "cell_type": "code",
      "execution_count": null,
      "metadata": {
        "colab": {
          "background_save": true
        },
        "id": "bSoGJI75zpPC",
        "outputId": "9aa20221-21da-4864-af3c-476c47e056bb"
      },
      "outputs": [
        {
          "name": "stdout",
          "output_type": "stream",
          "text": [
            "Walking for Tdcsfog\n"
          ]
        },
        {
          "ename": "NameError",
          "evalue": "name 'runBestModel' is not defined",
          "output_type": "error",
          "traceback": [
            "\u001b[0;31m---------------------------------------------------------------------------\u001b[0m",
            "\u001b[0;31mNameError\u001b[0m                                 Traceback (most recent call last)",
            "\u001b[0;32m<ipython-input-19-4717aac15173>\u001b[0m in \u001b[0;36m<cell line: 2>\u001b[0;34m()\u001b[0m\n\u001b[1;32m      1\u001b[0m \u001b[0mprint\u001b[0m\u001b[0;34m(\u001b[0m\u001b[0;34m\"Walking for Tdcsfog\"\u001b[0m\u001b[0;34m)\u001b[0m\u001b[0;34m\u001b[0m\u001b[0;34m\u001b[0m\u001b[0m\n\u001b[0;32m----> 2\u001b[0;31m \u001b[0mrunBestModel\u001b[0m\u001b[0;34m(\u001b[0m\u001b[0mbestModeTdcsfogW\u001b[0m\u001b[0;34m,\u001b[0m\u001b[0mX_train_tdcsfog_W\u001b[0m\u001b[0;34m,\u001b[0m \u001b[0my_train_tdcsfog_W\u001b[0m\u001b[0;34m,\u001b[0m \u001b[0mX_test_tdcsfog_W\u001b[0m\u001b[0;34m,\u001b[0m \u001b[0my_test_tdcsfog_W\u001b[0m\u001b[0;34m)\u001b[0m\u001b[0;34m\u001b[0m\u001b[0;34m\u001b[0m\u001b[0m\n\u001b[0m",
            "\u001b[0;31mNameError\u001b[0m: name 'runBestModel' is not defined"
          ]
        }
      ],
      "source": [
        "print(\"Walking for Tdcsfog\")\n",
        "runBestModel(bestModeTdcsfogW,X_train_tdcsfog_W, y_train_tdcsfog_W, X_test_tdcsfog_W, y_test_tdcsfog_W)"
      ]
    },
    {
      "cell_type": "code",
      "execution_count": null,
      "metadata": {
        "colab": {
          "base_uri": "https://localhost:8080/"
        },
        "id": "YIY0b3QhzzjO",
        "outputId": "a1fb1e50-de96-4d9a-df71-1a1fb0c3e86f"
      },
      "outputs": [
        {
          "name": "stdout",
          "output_type": "stream",
          "text": [
            "Fitting 3 folds for each of 81 candidates, totalling 243 fits\n",
            "Best parameters found:  {'max_depth': None, 'min_samples_leaf': 4, 'min_samples_split': 2, 'n_estimators': 20}\n",
            "Best cross-validation score:  0.8348281731860943\n"
          ]
        }
      ],
      "source": [
        "bestModeTdcsfogSH = gridSearchCV(X_train_tdcsfog_SH, y_train_tdcsfog_SH)"
      ]
    },
    {
      "cell_type": "code",
      "execution_count": null,
      "metadata": {
        "colab": {
          "base_uri": "https://localhost:8080/"
        },
        "id": "iT-Tcs6qz2sx",
        "outputId": "9819f237-adb0-43b4-a62d-7cba58739941"
      },
      "outputs": [
        {
          "name": "stdout",
          "output_type": "stream",
          "text": [
            "Start Hesitation for Tdcsfog\n",
            "Test Accuracy: 0.7423822714681441\n",
            "Precision: 0.5511314369902012\n",
            "Recall: 0.7423822714681441\n",
            "F1 Score: 0.6326182790253183\n"
          ]
        },
        {
          "name": "stderr",
          "output_type": "stream",
          "text": [
            "/usr/local/lib/python3.10/dist-packages/sklearn/metrics/_classification.py:1531: UndefinedMetricWarning: Precision is ill-defined and being set to 0.0 in labels with no predicted samples. Use `zero_division` parameter to control this behavior.\n",
            "  _warn_prf(average, modifier, f\"{metric.capitalize()} is\", len(result))\n"
          ]
        }
      ],
      "source": [
        "print(\"Start Hesitation for Tdcsfog\")\n",
        "runBestModel(bestModeTdcsfogSH,X_train_tdcsfog_SH, y_train_tdcsfog_SH, X_test_tdcsfog_SH, y_test_tdcsfog_SH)"
      ]
    }
  ],
  "metadata": {
    "colab": {
      "toc_visible": true,
      "provenance": [],
      "gpuType": "V28",
      "authorship_tag": "ABX9TyPkyxWrQ5TeeW62wslsPdvd",
      "include_colab_link": true
    },
    "kernelspec": {
      "display_name": "Python 3",
      "name": "python3"
    },
    "language_info": {
      "name": "python"
    },
    "accelerator": "TPU"
  },
  "nbformat": 4,
  "nbformat_minor": 0
}