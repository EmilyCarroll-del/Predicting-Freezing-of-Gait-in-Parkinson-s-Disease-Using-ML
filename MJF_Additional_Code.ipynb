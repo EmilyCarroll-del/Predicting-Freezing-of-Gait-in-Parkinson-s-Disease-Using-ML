{
  "nbformat": 4,
  "nbformat_minor": 0,
  "metadata": {
    "colab": {
      "provenance": [],
      "include_colab_link": true
    },
    "kernelspec": {
      "name": "python3",
      "display_name": "Python 3"
    },
    "language_info": {
      "name": "python"
    }
  },
  "cells": [
    {
      "cell_type": "markdown",
      "metadata": {
        "id": "view-in-github",
        "colab_type": "text"
      },
      "source": [
        "<a href=\"https://colab.research.google.com/github/EmilyCarroll-del/Michael-J-Fox-Foundation-FOG-in-PD/blob/main/MJF_Additional_Code.ipynb\" target=\"_parent\"><img src=\"https://colab.research.google.com/assets/colab-badge.svg\" alt=\"Open In Colab\"/></a>"
      ]
    },
    {
      "cell_type": "code",
      "execution_count": null,
      "metadata": {
        "id": "QwQ83ZMYQm5E"
      },
      "outputs": [],
      "source": [
        "#FAST FOURIER TRANSFORM\n",
        "\n",
        "import numpy as np\n",
        "\n",
        "N = 50  # Number of frequency components to keep\n",
        "\n",
        "# Function for FFT filtering (keeping only low-frequency components)\n",
        "def fft_filter(signal, N):\n",
        "    \"\"\"Perform FFT on a single signal and zero out high-frequency components.\"\"\"\n",
        "    # Perform FFT\n",
        "    signal_fft = np.fft.fft(signal)\n",
        "\n",
        "    # Zero out high-frequency components (keeping only the first N components)\n",
        "    signal_fft[N:-N] = 0\n",
        "\n",
        "    # Inverse FFT to get the filtered signal\n",
        "    filtered_signal = np.fft.ifft(signal_fft).real\n",
        "\n",
        "    return filtered_signal\n",
        "\n",
        "# Apply FFT filtering to the accelerometer columns without downsampling\n",
        "filtered_AccV = fft_filter(tdcsfog['AccV'], N)\n",
        "filtered_AccML = fft_filter(tdcsfog['AccML'], N)\n",
        "filtered_AccAP = fft_filter(tdcsfog['AccAP'], N)\n",
        "\n",
        "# Assign filtered values to the new DataFrame columns\n",
        "tdcsfog['AccV_filtered'] = filtered_AccV\n",
        "tdcsfog['AccML_filtered'] = filtered_AccML\n",
        "tdcsfog['AccAP_filtered'] = filtered_AccAP\n",
        "\n",
        "# Display the updated DataFrame with filtered accelerometer data\n",
        "print(tdcsfog.head())\n",
        "print(tdcsfog.shape)"
      ]
    },
    {
      "cell_type": "code",
      "source": [
        "# Apply FFT downsampling and time-domain downsampling to the accelerometer columns\n",
        "filtered_AccV = fft_filter(defog['AccV'], N)\n",
        "filtered_AccML = fft_filter(defog['AccML'], N)\n",
        "filtered_AccAP = fft_filter(defog['AccAP'], N)\n",
        "\n",
        "# Adjust the DataFrame index to match the downsampled signal length\n",
        "# Keep only the first rows of the DataFrame that correspond to the downsampled signal length\n",
        "defog = defog.iloc[:len(filtered_AccV)].copy()\n",
        "\n",
        "# Assign downsampled values to the new DataFrame columns\n",
        "defog['AccV_filtered'] = filtered_AccV\n",
        "defog['AccML_filtered'] = filtered_AccML\n",
        "defog['AccAP_filtered'] = filtered_AccAP\n",
        "\n",
        "# Display the updated DataFrame with downsampled accelerometer data\n",
        "print(defog.head())\n",
        "print(defog.shape)"
      ],
      "metadata": {
        "id": "yEdChbyggljP"
      },
      "execution_count": null,
      "outputs": []
    },
    {
      "cell_type": "code",
      "source": [
        "#graphing max frequency of fourier transform\n",
        "fs = 128\n",
        "AccML_fft = np.fft.fft(tdcsfog['AccML'])\n",
        "n = len(tdcsfog['AccML'])  # Number of samples\n",
        "frequencies = np.fft.fftfreq(n, d=1/fs)\n",
        "plt.figure(figsize=(10, 6))\n",
        "\n",
        "# Only plot the positive frequencies (real-world frequencies)\n",
        "positive_freqs = frequencies[:n//2]\n",
        "magnitude = np.abs(AccML_fft[:n//2])  # Magnitude of the Fourier coefficients\n",
        "\n",
        "plt.plot(positive_freqs, magnitude, label='FFT Magnitude')\n",
        "plt.title('Fourier Transform of Accelerometer Data (AccML)')\n",
        "plt.xlabel('Frequency (Hz)')\n",
        "plt.ylabel('Magnitude')\n",
        "plt.grid(True)\n",
        "plt.legend()\n",
        "plt.show()"
      ],
      "metadata": {
        "id": "vVZVcRe9gn8-"
      },
      "execution_count": null,
      "outputs": []
    },
    {
      "cell_type": "code",
      "source": [
        "#SPECTROGRAM\n",
        "\n",
        "from scipy.signal import spectrogram\n",
        "\n",
        "# Parameters\n",
        "window_size = 384\n",
        "sampling_rate = 128\n",
        "\n",
        "def compute_spectrogram(data, fs=sampling_rate, nperseg=window_size):\n",
        "    # Compute the spectrogram\n",
        "    frequencies, times, Sxx = spectrogram(data, fs=fs, window='hann', nperseg=nperseg)\n",
        "    return Sxx  # Sxx is the 2D spectrogram matrix (frequency vs time)\n",
        "\n",
        "# Define the number of samples per window\n",
        "num_samples_per_window = window_size\n",
        "\n",
        "# Lists to store spectrograms for each axis\n",
        "spectrograms_v = []\n",
        "spectrograms_ml = []\n",
        "spectrograms_ap = []\n",
        "\n",
        "# Loop through the DataFrame in chunks of `num_samples_per_window`\n",
        "for start in range(0, len(tdcsfog) - num_samples_per_window + 1, num_samples_per_window):\n",
        "    # Extract the window for each axis\n",
        "    window_v = tdcsfog['AccV'].iloc[start:start + num_samples_per_window].values\n",
        "    window_ml = tdcsfog['AccML'].iloc[start:start + num_samples_per_window].values\n",
        "    window_ap = tdcsfog['AccAP'].iloc[start:start + num_samples_per_window].values\n",
        "\n",
        "    # Compute the spectrogram for each axis\n",
        "    S_v = compute_spectrogram(window_v)\n",
        "    S_ml = compute_spectrogram(window_ml)\n",
        "    S_ap = compute_spectrogram(window_ap)\n",
        "\n",
        "    # Flatten each spectrogram to a 1D array if needed (for ML model input)\n",
        "    spectrograms_v.append(S_v.flatten())\n",
        "    spectrograms_ml.append(S_ml.flatten())\n",
        "    spectrograms_ap.append(S_ap.flatten())\n",
        "\n",
        "# Create DataFrames for each axis's spectrograms\n",
        "spectrogram_v_df = pd.DataFrame(spectrograms_v)\n",
        "spectrogram_ml_df = pd.DataFrame(spectrograms_ml)\n",
        "spectrogram_ap_df = pd.DataFrame(spectrograms_ap)\n",
        "\n",
        "# Combine into a single DataFrame with separate columns for each axis\n",
        "# (Optional: you could concatenate these if your model can take multiple channels)\n",
        "spectrogram_df = pd.concat([spectrogram_v_df, spectrogram_ml_df, spectrogram_ap_df], axis=1)\n",
        "\n",
        "# Inspect the final DataFrame\n",
        "print(spectrogram_df.head())\n",
        "\n",
        "#print(spectrogram_v_df.head())\n",
        "print(spectrogram_df.shape)"
      ],
      "metadata": {
        "id": "MIVxyGYwhnxj"
      },
      "execution_count": null,
      "outputs": []
    }
  ]
}