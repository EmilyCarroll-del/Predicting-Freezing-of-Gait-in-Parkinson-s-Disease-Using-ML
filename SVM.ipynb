{
  "cells": [
    {
      "cell_type": "code",
      "execution_count": 2,
      "metadata": {
        "colab": {
          "base_uri": "https://localhost:8080/"
        },
        "id": "xbx_DSfl9XDb",
        "outputId": "03e9d2ee-d5b1-4cb7-f2b3-4ad4f94970e0"
      },
      "outputs": [
        {
          "output_type": "stream",
          "name": "stdout",
          "text": [
            "Mounted at /content/drive\n"
          ]
        }
      ],
      "source": [
        "from google.colab import drive\n",
        "drive.mount('/content/drive')"
      ]
    },
    {
      "cell_type": "code",
      "execution_count": 3,
      "metadata": {
        "colab": {
          "base_uri": "https://localhost:8080/"
        },
        "id": "DGH2OgSF9b9g",
        "outputId": "dde9e411-dfb4-4099-ded6-3d7be5f56f47"
      },
      "outputs": [
        {
          "output_type": "stream",
          "name": "stdout",
          "text": [
            "/content/drive/MyDrive/Colab Notebooks\n",
            " aischool                                    'Copy of tdcsfog_turn_test.csv'\n",
            "'Copy of defog_start_hesitation.csv'         'Copy of tdcsfog_walking.csv'\n",
            "'Copy of defog_start_hesitation_test.csv'    'Copy of tdcsfog_walking_test.csv'\n",
            "'Copy of defog_turn.csv'                     'F23 HC7&8_analysis.ipynb'\n",
            "'Copy of defog_turn_test.csv'                 MJFF_SVM_Model.ipynb\n",
            "'Copy of defog_walking.csv'                  'My Copy of MJFF-FOG-Prediction-PD.ipynb'\n",
            "'Copy of defog_walking_test.csv'              OldSVM.ipynb\n",
            "'Copy of tdcsfog_start_hesitation.csv'        \u001b[0m\u001b[01;34mtlvmc-parkinsons-freezing-gait-prediction\u001b[0m/\n",
            "'Copy of tdcsfog_start_hesitation_test.csv'   tlvmc-parkinsons-freezing-gait-prediction.zip\n",
            "'Copy of tdcsfog_turn.csv'\n"
          ]
        }
      ],
      "source": [
        "%cd '/content/drive/MyDrive/Colab Notebooks'\n",
        "%ls"
      ]
    },
    {
      "cell_type": "code",
      "execution_count": 4,
      "metadata": {
        "id": "TqoKhB-q9oQ_"
      },
      "outputs": [],
      "source": [
        "import numpy as np\n",
        "import pandas as pd\n",
        "import matplotlib.pyplot as plt\n",
        "import os\n",
        "import seaborn as sns\n",
        "from sklearn.model_selection import train_test_split\n",
        "from sklearn.preprocessing import StandardScaler\n",
        "import tensorflow as tf\n",
        "from sklearn.metrics import classification_report\n",
        "from sklearn.linear_model import SGDClassifier\n",
        "from sklearn.metrics import confusion_matrix"
      ]
    },
    {
      "cell_type": "code",
      "execution_count": 5,
      "metadata": {
        "id": "GtXEyTj-AcIM"
      },
      "outputs": [],
      "source": [
        "#preprocessed training data\n",
        "defog_turn = pd.read_csv('/content/drive/My Drive/Colab Notebooks/Copy of defog_turn.csv')\n",
        "defog_walk = pd.read_csv('/content/drive/My Drive/Colab Notebooks/Copy of defog_walking.csv')\n",
        "defog_sh = pd.read_csv('/content/drive/My Drive/Colab Notebooks/Copy of defog_start_hesitation.csv')\n",
        "\n",
        "tdcsfog_turn = pd.read_csv('/content/drive/My Drive/Colab Notebooks/Copy of tdcsfog_turn.csv')\n",
        "tdcsfog_walk = pd.read_csv('/content/drive/My Drive/Colab Notebooks/Copy of tdcsfog_walking.csv')\n",
        "tdcsfog_sh = pd.read_csv('/content/drive/My Drive/Colab Notebooks/Copy of tdcsfog_start_hesitation.csv')"
      ]
    },
    {
      "cell_type": "code",
      "execution_count": 6,
      "metadata": {
        "id": "k_I6PmYOAnxK"
      },
      "outputs": [],
      "source": [
        "#preprocessed test data\n",
        "defog_turn_test = pd.read_csv('/content/drive/My Drive/Colab Notebooks/Copy of defog_turn_test.csv')\n",
        "defog_walk_test = pd.read_csv('/content/drive/My Drive/Colab Notebooks/Copy of defog_walking_test.csv')\n",
        "defog_sh_test = pd.read_csv('/content/drive/My Drive/Colab Notebooks/Copy of defog_start_hesitation_test.csv')\n",
        "\n",
        "tdcsfog_turn_test = pd.read_csv('/content/drive/My Drive/Colab Notebooks/Copy of tdcsfog_turn_test.csv')\n",
        "tdcsfog_walk_test = pd.read_csv('/content/drive/My Drive/Colab Notebooks/Copy of tdcsfog_walking_test.csv')\n",
        "tdcsfog_sh_test = pd.read_csv('/content/drive/My Drive/Colab Notebooks/Copy of tdcsfog_start_hesitation_test.csv')"
      ]
    },
    {
      "cell_type": "code",
      "execution_count": 7,
      "metadata": {
        "id": "agdoYCAcAu-f"
      },
      "outputs": [],
      "source": [
        "#unnamed columns\n",
        "defog_turn = defog_turn.drop(defog_turn.columns[0], axis=1)\n",
        "defog_walk = defog_walk.drop(defog_walk.columns[0], axis=1)\n",
        "defog_sh = defog_sh.drop(defog_sh.columns[0], axis=1)\n",
        "\n",
        "tdcsfog_turn = tdcsfog_turn.drop(tdcsfog_turn.columns[0], axis=1)\n",
        "tdcsfog_walk = tdcsfog_walk.drop(tdcsfog_walk.columns[0], axis=1)\n",
        "tdcsfog_sh = tdcsfog_sh.drop(tdcsfog_sh.columns[0], axis=1)\n",
        "\n",
        "defog_turn_test = defog_turn_test.drop(defog_turn_test.columns[0], axis=1)\n",
        "defog_walk_test = defog_walk_test.drop(defog_walk_test.columns[0], axis=1)\n",
        "defog_sh_test = defog_sh_test.drop(defog_sh_test.columns[0], axis=1)\n",
        "\n",
        "tdcsfog_turn_test = tdcsfog_turn_test.drop(tdcsfog_turn_test.columns[0], axis=1)\n",
        "tdcsfog_walk_test = tdcsfog_walk_test.drop(tdcsfog_walk_test.columns[0], axis=1)\n",
        "tdcsfog_sh_test = tdcsfog_sh_test.drop(tdcsfog_sh_test.columns[0], axis=1)"
      ]
    },
    {
      "cell_type": "code",
      "execution_count": 8,
      "metadata": {
        "id": "l-QnkPpzA4hL"
      },
      "outputs": [],
      "source": [
        "X_train_dturn = defog_turn.drop(columns='Turn')\n",
        "y_train_dturn = defog_turn['Turn']\n",
        "############################\n",
        "X_train_dwalk = defog_walk.drop(columns='Walking')\n",
        "y_train_dwalk = defog_walk['Walking']\n",
        "############################\n",
        "X_train_dsh = defog_sh.drop(columns='StartHesitation')\n",
        "y_train_dsh = defog_sh['StartHesitation']\n",
        "\n",
        "#--------------------------#\n",
        "\n",
        "X_train_tturn = tdcsfog_turn.drop(columns='Turn')\n",
        "y_train_tturn = tdcsfog_turn['Turn']\n",
        "############################\n",
        "X_train_twalk = tdcsfog_walk.drop(columns='Walking')\n",
        "y_train_twalk = tdcsfog_walk['Walking']\n",
        "############################\n",
        "X_train_tsh = tdcsfog_sh.drop(columns='StartHesitation')\n",
        "y_train_tsh = tdcsfog_sh['StartHesitation']\n",
        "\n",
        "#--------------------------#\n",
        "\n",
        "X_test_dturn = defog_turn_test.drop(columns=['Turn'])\n",
        "y_test_dturn = defog_turn_test['Turn']\n",
        "\n",
        "X_test_dwalk = defog_walk_test.drop(columns=['Walking'])\n",
        "y_test_dwalk = defog_walk_test['Walking']\n",
        "\n",
        "X_test_dsh = defog_sh_test.drop(columns=['StartHesitation'])\n",
        "y_test_dsh = defog_sh_test['StartHesitation']\n",
        "############################\n",
        "X_test_tturn = tdcsfog_turn_test.drop(columns=['Turn'])\n",
        "y_test_tturn = tdcsfog_turn_test['Turn']\n",
        "\n",
        "X_test_twalk = tdcsfog_walk_test.drop(columns=['Walking'])\n",
        "y_test_twalk = tdcsfog_walk_test['Walking']\n",
        "\n",
        "X_test_tsh = tdcsfog_sh_test.drop(columns=['StartHesitation'])\n",
        "y_test_tsh = tdcsfog_sh_test['StartHesitation']"
      ]
    },
    {
      "cell_type": "code",
      "execution_count": 9,
      "metadata": {
        "id": "pfFCHnUJBFoD"
      },
      "outputs": [],
      "source": [
        "from mpl_toolkits.mplot3d import Axes3D\n",
        "from sklearn.model_selection import cross_val_score\n",
        "from sklearn.model_selection import cross_val_predict\n",
        "from sklearn.model_selection import train_test_split\n",
        "from sklearn.svm import SVC\n",
        "from sklearn import svm\n",
        "from sklearn.metrics import classification_report\n",
        "from sklearn.preprocessing import scale\n",
        "from sklearn.preprocessing import StandardScaler\n",
        "from sklearn.inspection import permutation_importance\n",
        "from sklearn.metrics import f1_score\n",
        "from sklearn.metrics import roc_auc_score\n",
        "from sklearn.model_selection import GridSearchCV"
      ]
    },
    {
      "cell_type": "code",
      "execution_count": 10,
      "metadata": {
        "id": "g_y78PgAk9YA"
      },
      "outputs": [],
      "source": [
        "# Initialize SVM models for defog dataset\n",
        "model_svc_dturn = SVC(class_weight='balanced')\n",
        "model_svc_dwalk = SVC(class_weight='balanced')\n",
        "model_svc_dsh = SVC(class_weight='balanced')\n",
        "\n",
        "# Initialize SVM models for tdcsfog dataset\n",
        "model_svc_tturn = SVC(class_weight='balanced')\n",
        "model_svc_twalk = SVC(class_weight='balanced')\n",
        "model_svc_tsh = SVC(class_weight='balanced')"
      ]
    },
    {
      "cell_type": "code",
      "execution_count": 11,
      "metadata": {
        "colab": {
          "base_uri": "https://localhost:8080/"
        },
        "id": "elP7fnV-lVTe",
        "outputId": "7993f6d1-909a-4006-b501-e94cb3b72a66"
      },
      "outputs": [
        {
          "output_type": "stream",
          "name": "stdout",
          "text": [
            "CPU times: user 12.3 s, sys: 254 ms, total: 12.5 s\n",
            "Wall time: 12.7 s\n"
          ]
        }
      ],
      "source": [
        "%%time\n",
        "model_svc_dturn.fit(X_train_dturn, y_train_dturn)\n",
        "predicted_dturn = model_svc_dturn.predict(X_test_dturn)"
      ]
    },
    {
      "cell_type": "code",
      "execution_count": 12,
      "metadata": {
        "colab": {
          "base_uri": "https://localhost:8080/"
        },
        "id": "Kxzrtmb1CqsL",
        "outputId": "f9e85e34-8de4-4c93-93d3-42c6288fb6d9"
      },
      "outputs": [
        {
          "output_type": "stream",
          "name": "stdout",
          "text": [
            "CPU times: user 13 s, sys: 59.1 ms, total: 13.1 s\n",
            "Wall time: 13.1 s\n"
          ]
        }
      ],
      "source": [
        "%%time\n",
        "model_svc_dwalk.fit(X_train_dwalk, y_train_dwalk)\n",
        "predicted_dwalk = model_svc_dwalk.predict(X_test_dwalk)"
      ]
    },
    {
      "cell_type": "code",
      "execution_count": 13,
      "metadata": {
        "colab": {
          "base_uri": "https://localhost:8080/"
        },
        "id": "NYyn6lMmHUJ0",
        "outputId": "567cfbf8-1edb-41fd-ed41-ec08843b186b"
      },
      "outputs": [
        {
          "output_type": "stream",
          "name": "stdout",
          "text": [
            "CPU times: user 497 ms, sys: 1.8 ms, total: 499 ms\n",
            "Wall time: 497 ms\n"
          ]
        }
      ],
      "source": [
        "%%time\n",
        "model_svc_dsh.fit(X_train_dsh, y_train_dsh)\n",
        "predicted_dsh = model_svc_dsh.predict(X_test_dsh)"
      ]
    },
    {
      "cell_type": "code",
      "execution_count": 14,
      "metadata": {
        "colab": {
          "base_uri": "https://localhost:8080/"
        },
        "id": "9Mb5MUVOHfme",
        "outputId": "ec389815-0551-4653-c859-92eee978abf2"
      },
      "outputs": [
        {
          "output_type": "stream",
          "name": "stdout",
          "text": [
            "CPU times: user 12.2 s, sys: 52 ms, total: 12.3 s\n",
            "Wall time: 12.4 s\n"
          ]
        }
      ],
      "source": [
        "%%time\n",
        "model_svc_tturn.fit(X_train_tturn, y_train_tturn)\n",
        "predicted_tturn = model_svc_tturn.predict(X_test_tturn)"
      ]
    },
    {
      "cell_type": "code",
      "execution_count": 15,
      "metadata": {
        "colab": {
          "base_uri": "https://localhost:8080/"
        },
        "id": "fGXN49kIHkfC",
        "outputId": "e1631915-c999-4db1-b9f9-7cda6dc8d304"
      },
      "outputs": [
        {
          "output_type": "stream",
          "name": "stdout",
          "text": [
            "CPU times: user 28.7 s, sys: 67.5 ms, total: 28.8 s\n",
            "Wall time: 29.3 s\n"
          ]
        }
      ],
      "source": [
        "%%time\n",
        "model_svc_twalk.fit(X_train_twalk, y_train_twalk)\n",
        "predicted_twalk = model_svc_twalk.predict(X_test_twalk)"
      ]
    },
    {
      "cell_type": "code",
      "execution_count": 16,
      "metadata": {
        "colab": {
          "base_uri": "https://localhost:8080/"
        },
        "id": "vdmf0k3cHwdW",
        "outputId": "a636dbf4-6f40-48a1-c776-0e648123bbaa"
      },
      "outputs": [
        {
          "output_type": "stream",
          "name": "stdout",
          "text": [
            "CPU times: user 35.1 s, sys: 90.7 ms, total: 35.1 s\n",
            "Wall time: 36 s\n"
          ]
        }
      ],
      "source": [
        "%%time\n",
        "model_svc_tsh.fit(X_train_tsh, y_train_tsh)\n",
        "predicted_tsh = model_svc_tsh.predict(X_test_tsh)"
      ]
    },
    {
      "cell_type": "code",
      "execution_count": 17,
      "metadata": {
        "colab": {
          "base_uri": "https://localhost:8080/"
        },
        "id": "qALJ8vquH7On",
        "outputId": "7e5ecdfb-a7c7-446a-ceff-ecb715beef52"
      },
      "outputs": [
        {
          "output_type": "stream",
          "name": "stdout",
          "text": [
            "Defog - Turn Classification Report\n",
            "              precision    recall  f1-score   support\n",
            "\n",
            "           0       0.99      0.49      0.66       813\n",
            "           1       0.53      0.99      0.69       472\n",
            "\n",
            "    accuracy                           0.68      1285\n",
            "   macro avg       0.76      0.74      0.67      1285\n",
            "weighted avg       0.82      0.68      0.67      1285\n",
            "\n",
            "Defog - Walking Classification Report\n",
            "              precision    recall  f1-score   support\n",
            "\n",
            "           0       0.98      1.00      0.99      1256\n",
            "           1       0.00      0.00      0.00        29\n",
            "\n",
            "    accuracy                           0.98      1285\n",
            "   macro avg       0.49      0.50      0.49      1285\n",
            "weighted avg       0.96      0.98      0.97      1285\n",
            "\n",
            "Defog - StartHesitation Classification Report\n",
            "              precision    recall  f1-score   support\n",
            "\n",
            "           0       1.00      1.00      1.00      1285\n",
            "\n",
            "    accuracy                           1.00      1285\n",
            "   macro avg       1.00      1.00      1.00      1285\n",
            "weighted avg       1.00      1.00      1.00      1285\n",
            "\n",
            "TDCSFog - Turn Classification Report\n",
            "              precision    recall  f1-score   support\n",
            "\n",
            "           0       0.94      0.12      0.21       137\n",
            "           1       0.65      1.00      0.79       224\n",
            "\n",
            "    accuracy                           0.66       361\n",
            "   macro avg       0.79      0.56      0.50       361\n",
            "weighted avg       0.76      0.66      0.57       361\n",
            "\n",
            "TDCSFog - Walking Classification Report\n",
            "              precision    recall  f1-score   support\n",
            "\n",
            "           0       0.90      1.00      0.95       325\n",
            "           1       0.00      0.00      0.00        36\n",
            "\n",
            "    accuracy                           0.90       361\n",
            "   macro avg       0.45      0.50      0.47       361\n",
            "weighted avg       0.81      0.90      0.85       361\n",
            "\n",
            "TDCSFog - StartHesitation Classification Report\n",
            "              precision    recall  f1-score   support\n",
            "\n",
            "           0       0.74      0.95      0.83       268\n",
            "           1       0.30      0.06      0.11        93\n",
            "\n",
            "    accuracy                           0.72       361\n",
            "   macro avg       0.52      0.51      0.47       361\n",
            "weighted avg       0.63      0.72      0.65       361\n",
            "\n"
          ]
        },
        {
          "output_type": "stream",
          "name": "stderr",
          "text": [
            "/usr/local/lib/python3.10/dist-packages/sklearn/metrics/_classification.py:1531: UndefinedMetricWarning: Precision is ill-defined and being set to 0.0 in labels with no predicted samples. Use `zero_division` parameter to control this behavior.\n",
            "  _warn_prf(average, modifier, f\"{metric.capitalize()} is\", len(result))\n",
            "/usr/local/lib/python3.10/dist-packages/sklearn/metrics/_classification.py:1531: UndefinedMetricWarning: Precision is ill-defined and being set to 0.0 in labels with no predicted samples. Use `zero_division` parameter to control this behavior.\n",
            "  _warn_prf(average, modifier, f\"{metric.capitalize()} is\", len(result))\n",
            "/usr/local/lib/python3.10/dist-packages/sklearn/metrics/_classification.py:1531: UndefinedMetricWarning: Precision is ill-defined and being set to 0.0 in labels with no predicted samples. Use `zero_division` parameter to control this behavior.\n",
            "  _warn_prf(average, modifier, f\"{metric.capitalize()} is\", len(result))\n",
            "/usr/local/lib/python3.10/dist-packages/sklearn/metrics/_classification.py:1531: UndefinedMetricWarning: Precision is ill-defined and being set to 0.0 in labels with no predicted samples. Use `zero_division` parameter to control this behavior.\n",
            "  _warn_prf(average, modifier, f\"{metric.capitalize()} is\", len(result))\n",
            "/usr/local/lib/python3.10/dist-packages/sklearn/metrics/_classification.py:1531: UndefinedMetricWarning: Precision is ill-defined and being set to 0.0 in labels with no predicted samples. Use `zero_division` parameter to control this behavior.\n",
            "  _warn_prf(average, modifier, f\"{metric.capitalize()} is\", len(result))\n",
            "/usr/local/lib/python3.10/dist-packages/sklearn/metrics/_classification.py:1531: UndefinedMetricWarning: Precision is ill-defined and being set to 0.0 in labels with no predicted samples. Use `zero_division` parameter to control this behavior.\n",
            "  _warn_prf(average, modifier, f\"{metric.capitalize()} is\", len(result))\n"
          ]
        }
      ],
      "source": [
        "# Evaluate the models\n",
        "from sklearn.metrics import classification_report\n",
        "\n",
        "# Evaluate defog dataset\n",
        "print(\"Defog - Turn Classification Report\")\n",
        "print(classification_report(y_test_dturn, predicted_dturn))\n",
        "\n",
        "print(\"Defog - Walking Classification Report\")\n",
        "print(classification_report(y_test_dwalk, predicted_dwalk))\n",
        "\n",
        "print(\"Defog - StartHesitation Classification Report\")\n",
        "print(classification_report(y_test_dsh, predicted_dsh))\n",
        "\n",
        "# Evaluate tdcsfog dataset\n",
        "print(\"TDCSFog - Turn Classification Report\")\n",
        "print(classification_report(y_test_tturn, predicted_tturn))\n",
        "\n",
        "print(\"TDCSFog - Walking Classification Report\")\n",
        "print(classification_report(y_test_twalk, predicted_twalk))\n",
        "\n",
        "print(\"TDCSFog - StartHesitation Classification Report\")\n",
        "print(classification_report(y_test_tsh, predicted_tsh))"
      ]
    },
    {
      "cell_type": "code",
      "execution_count": 18,
      "metadata": {
        "id": "KQqI4BSeIGoQ"
      },
      "outputs": [],
      "source": [
        "# Define the parameter grid for hyperparameter tuning\n",
        "param_grid = {\n",
        "    'C': [0.1, 1, 10, 100],\n",
        "    'kernel': ['linear', 'rbf', 'poly', 'sigmoid'],\n",
        "    'gamma': ['scale', 'auto'],\n",
        "    'class_weight': ['balanced']\n",
        "}"
      ]
    },
    {
      "cell_type": "code",
      "execution_count": 19,
      "metadata": {
        "id": "pjN1RrkAcJ-9"
      },
      "outputs": [],
      "source": [
        "# Function for hyperparameter tuning and evaluation\n",
        "def tune_and_train_svm(X_train, y_train, X_test, y_test, task_name):\n",
        "    print(f\"Tuning {task_name} model...\\n\")\n",
        "\n",
        "    # Initialize GridSearchCV\n",
        "    grid_search = GridSearchCV(\n",
        "        estimator=SVC(),\n",
        "        param_grid=param_grid,\n",
        "        scoring='f1_macro',  # F1 score for imbalanced datasets\n",
        "        cv=5,  # 5-fold cross-validation\n",
        "        verbose=1,\n",
        "        n_jobs=-1\n",
        "    )\n",
        "\n",
        "    # Fit the model\n",
        "    grid_search.fit(X_train, y_train)\n",
        "\n",
        "    # Best parameters\n",
        "    print(f\"Best parameters for {task_name}: {grid_search.best_params_}\\n\")\n",
        "\n",
        "    # Predict with the best estimator\n",
        "    best_model = grid_search.best_estimator_\n",
        "    predictions = best_model.predict(X_test)\n",
        "\n",
        "    # Evaluate\n",
        "    print(f\"Classification Report for {task_name}:\\n\")\n",
        "    print(classification_report(y_test, predictions))\n",
        "    print(\"=\"*50)\n",
        "\n",
        "    return best_model"
      ]
    },
    {
      "cell_type": "code",
      "execution_count": null,
      "metadata": {
        "colab": {
          "background_save": true,
          "base_uri": "https://localhost:8080/"
        },
        "id": "Mqw8FHudHqX9",
        "outputId": "036a9281-1504-49f7-822e-d697ecd8091e"
      },
      "outputs": [
        {
          "name": "stdout",
          "output_type": "stream",
          "text": [
            "Tuning Defog - Turn model...\n",
            "\n",
            "Fitting 5 folds for each of 32 candidates, totalling 160 fits\n",
            "Best parameters for Defog - Turn: {'C': 100, 'class_weight': 'balanced', 'gamma': 'auto', 'kernel': 'rbf'}\n",
            "\n",
            "Classification Report for Defog - Turn:\n",
            "\n",
            "              precision    recall  f1-score   support\n",
            "\n",
            "           0       0.99      0.48      0.65       813\n",
            "           1       0.53      0.99      0.69       472\n",
            "\n",
            "    accuracy                           0.67      1285\n",
            "   macro avg       0.76      0.74      0.67      1285\n",
            "weighted avg       0.82      0.67      0.66      1285\n",
            "\n",
            "==================================================\n",
            "Tuning Defog - Walking model...\n",
            "\n",
            "Fitting 5 folds for each of 32 candidates, totalling 160 fits\n",
            "Best parameters for Defog - Walking: {'C': 0.1, 'class_weight': 'balanced', 'gamma': 'scale', 'kernel': 'linear'}\n",
            "\n",
            "Classification Report for Defog - Walking:\n",
            "\n",
            "              precision    recall  f1-score   support\n",
            "\n",
            "           0       0.98      1.00      0.99      1256\n",
            "           1       0.00      0.00      0.00        29\n",
            "\n",
            "    accuracy                           0.98      1285\n",
            "   macro avg       0.49      0.50      0.49      1285\n",
            "weighted avg       0.96      0.98      0.97      1285\n",
            "\n",
            "==================================================\n",
            "Tuning Defog - StartHesitation model...\n",
            "\n",
            "Fitting 5 folds for each of 32 candidates, totalling 160 fits\n"
          ]
        },
        {
          "name": "stderr",
          "output_type": "stream",
          "text": [
            "/usr/local/lib/python3.10/dist-packages/sklearn/metrics/_classification.py:1531: UndefinedMetricWarning: Precision is ill-defined and being set to 0.0 in labels with no predicted samples. Use `zero_division` parameter to control this behavior.\n",
            "  _warn_prf(average, modifier, f\"{metric.capitalize()} is\", len(result))\n",
            "/usr/local/lib/python3.10/dist-packages/sklearn/metrics/_classification.py:1531: UndefinedMetricWarning: Precision is ill-defined and being set to 0.0 in labels with no predicted samples. Use `zero_division` parameter to control this behavior.\n",
            "  _warn_prf(average, modifier, f\"{metric.capitalize()} is\", len(result))\n",
            "/usr/local/lib/python3.10/dist-packages/sklearn/metrics/_classification.py:1531: UndefinedMetricWarning: Precision is ill-defined and being set to 0.0 in labels with no predicted samples. Use `zero_division` parameter to control this behavior.\n",
            "  _warn_prf(average, modifier, f\"{metric.capitalize()} is\", len(result))\n"
          ]
        },
        {
          "name": "stdout",
          "output_type": "stream",
          "text": [
            "Best parameters for Defog - StartHesitation: {'C': 0.1, 'class_weight': 'balanced', 'gamma': 'scale', 'kernel': 'linear'}\n",
            "\n",
            "Classification Report for Defog - StartHesitation:\n",
            "\n",
            "              precision    recall  f1-score   support\n",
            "\n",
            "           0       1.00      1.00      1.00      1285\n",
            "\n",
            "    accuracy                           1.00      1285\n",
            "   macro avg       1.00      1.00      1.00      1285\n",
            "weighted avg       1.00      1.00      1.00      1285\n",
            "\n",
            "==================================================\n"
          ]
        }
      ],
      "source": [
        "model_dturn = tune_and_train_svm(X_train_dturn, y_train_dturn, X_test_dturn, y_test_dturn, \"Defog - Turn\")\n",
        "model_dwalk = tune_and_train_svm(X_train_dwalk, y_train_dwalk, X_test_dwalk, y_test_dwalk, \"Defog - Walking\")\n",
        "model_dsh = tune_and_train_svm(X_train_dsh, y_train_dsh, X_test_dsh, y_test_dsh, \"Defog - StartHesitation\")"
      ]
    },
    {
      "cell_type": "code",
      "execution_count": null,
      "metadata": {
        "id": "fnJ1PVDiH5n4",
        "colab": {
          "base_uri": "https://localhost:8080/"
        },
        "outputId": "8978046b-10c6-4499-c2d8-bbbf44180c81"
      },
      "outputs": [
        {
          "metadata": {
            "tags": null
          },
          "name": "stdout",
          "output_type": "stream",
          "text": [
            "Tuning TDCSFog - Turn model...\n",
            "\n",
            "Fitting 5 folds for each of 32 candidates, totalling 160 fits\n",
            "Best parameters for TDCSFog - Turn: {'C': 100, 'class_weight': 'balanced', 'gamma': 'scale', 'kernel': 'rbf'}\n",
            "\n",
            "Classification Report for TDCSFog - Turn:\n",
            "\n",
            "              precision    recall  f1-score   support\n",
            "\n",
            "           0       0.91      0.07      0.14       137\n",
            "           1       0.64      1.00      0.78       224\n",
            "\n",
            "    accuracy                           0.65       361\n",
            "   macro avg       0.77      0.53      0.46       361\n",
            "weighted avg       0.74      0.65      0.53       361\n",
            "\n",
            "==================================================\n",
            "Tuning TDCSFog - Walking model...\n",
            "\n",
            "Fitting 5 folds for each of 32 candidates, totalling 160 fits\n"
          ]
        }
      ],
      "source": [
        "model_tturn = tune_and_train_svm(X_train_tturn, y_train_tturn, X_test_tturn, y_test_tturn, \"TDCSFog - Turn\")\n",
        "model_twalk = tune_and_train_svm(X_train_twalk, y_train_twalk, X_test_twalk, y_test_twalk, \"TDCSFog - Walking\")\n",
        "model_tsh = tune_and_train_svm(X_train_tsh, y_train_tsh, X_test_tsh, y_test_tsh, \"TDCSFog - StartHesitation\")"
      ]
    },
    {
      "cell_type": "code",
      "source": [],
      "metadata": {
        "id": "9dP6fWARYaik"
      },
      "execution_count": null,
      "outputs": []
    }
  ],
  "metadata": {
    "colab": {
      "provenance": []
    },
    "kernelspec": {
      "display_name": "Python 3",
      "name": "python3"
    },
    "language_info": {
      "name": "python"
    }
  },
  "nbformat": 4,
  "nbformat_minor": 0
}